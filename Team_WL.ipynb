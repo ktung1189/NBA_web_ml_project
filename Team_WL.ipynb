{
 "cells": [
  {
   "cell_type": "markdown",
   "metadata": {},
   "source": [
    "Build ML model\n",
    "\n",
    "Goal: predict game result (win or lose) based on shot positions\n",
    "\n",
    "Step 1. predict made_shot% based on shot position (classification), then use the made% to input to step 2\n",
    "\n",
    "Step 2. predict player's score based on made% (regression), using the prediction fron step 1 predict player score and transfer prediction to step 3\n",
    "\n",
    "Step 3. predict team's score based on player's score (regression, requires a calculation of player's contribution to team's performance), based on the prediction of step 2 make team score predictation and transfer to step 4\n",
    "\n",
    "Step 4. predict win or lose based on team's score (classification), based on predictions from both step 2 and step 3 make win/loss prediction"
   ]
  },
  {
   "cell_type": "code",
   "execution_count": null,
   "metadata": {},
   "outputs": [],
   "source": [
    "import sqlite3\n",
    "import pandas as pd\n",
    "from pandas import Series, DataFrame\n",
    "pd.set_option('display.max_columns', 999)\n",
    "import numpy as np\n",
    "import matplotlib as ml\n",
    "import matplotlib.pyplot as plt\n",
    "%matplotlib inline\n",
    "import seaborn as sn"
   ]
  },
  {
   "cell_type": "code",
   "execution_count": 2,
   "metadata": {
    "scrolled": false
   },
   "outputs": [
    {
     "data": {
      "text/html": [
       "<div>\n",
       "<style scoped>\n",
       "    .dataframe tbody tr th:only-of-type {\n",
       "        vertical-align: middle;\n",
       "    }\n",
       "\n",
       "    .dataframe tbody tr th {\n",
       "        vertical-align: top;\n",
       "    }\n",
       "\n",
       "    .dataframe thead th {\n",
       "        text-align: right;\n",
       "    }\n",
       "</style>\n",
       "<table border=\"1\" class=\"dataframe\">\n",
       "  <thead>\n",
       "    <tr style=\"text-align: right;\">\n",
       "      <th></th>\n",
       "      <th>id</th>\n",
       "      <th>Team_ID</th>\n",
       "      <th>Game_ID</th>\n",
       "      <th>GAME_DATE</th>\n",
       "      <th>MATCHUP</th>\n",
       "      <th>WL</th>\n",
       "      <th>W</th>\n",
       "      <th>L</th>\n",
       "      <th>W_PCT</th>\n",
       "      <th>MIN</th>\n",
       "      <th>FGM</th>\n",
       "      <th>FGA</th>\n",
       "      <th>FG_PCT</th>\n",
       "      <th>FG3M</th>\n",
       "      <th>FG3A</th>\n",
       "      <th>FG3_PCT</th>\n",
       "      <th>FTM</th>\n",
       "      <th>FTA</th>\n",
       "      <th>FT_PCT</th>\n",
       "      <th>OREB</th>\n",
       "      <th>DREB</th>\n",
       "      <th>REB</th>\n",
       "      <th>AST</th>\n",
       "      <th>STL</th>\n",
       "      <th>BLK</th>\n",
       "      <th>TOV</th>\n",
       "      <th>PF</th>\n",
       "      <th>PTS</th>\n",
       "    </tr>\n",
       "  </thead>\n",
       "  <tbody>\n",
       "    <tr>\n",
       "      <th>13805</th>\n",
       "      <td>13805</td>\n",
       "      <td>1610612747</td>\n",
       "      <td>0021900074</td>\n",
       "      <td>NOV 01, 2019</td>\n",
       "      <td>LAL @ DAL</td>\n",
       "      <td>W</td>\n",
       "      <td>4.0</td>\n",
       "      <td>1.0</td>\n",
       "      <td>0.800</td>\n",
       "      <td>265</td>\n",
       "      <td>47</td>\n",
       "      <td>96</td>\n",
       "      <td>0.490</td>\n",
       "      <td>9</td>\n",
       "      <td>32</td>\n",
       "      <td>0.281</td>\n",
       "      <td>16</td>\n",
       "      <td>21</td>\n",
       "      <td>0.762</td>\n",
       "      <td>6</td>\n",
       "      <td>35</td>\n",
       "      <td>41</td>\n",
       "      <td>24</td>\n",
       "      <td>11</td>\n",
       "      <td>7</td>\n",
       "      <td>11</td>\n",
       "      <td>21</td>\n",
       "      <td>119</td>\n",
       "    </tr>\n",
       "    <tr>\n",
       "      <th>13806</th>\n",
       "      <td>13806</td>\n",
       "      <td>1610612747</td>\n",
       "      <td>0021900054</td>\n",
       "      <td>OCT 29, 2019</td>\n",
       "      <td>LAL vs. MEM</td>\n",
       "      <td>W</td>\n",
       "      <td>3.0</td>\n",
       "      <td>1.0</td>\n",
       "      <td>0.750</td>\n",
       "      <td>240</td>\n",
       "      <td>40</td>\n",
       "      <td>86</td>\n",
       "      <td>0.465</td>\n",
       "      <td>7</td>\n",
       "      <td>26</td>\n",
       "      <td>0.269</td>\n",
       "      <td>33</td>\n",
       "      <td>39</td>\n",
       "      <td>0.846</td>\n",
       "      <td>10</td>\n",
       "      <td>44</td>\n",
       "      <td>54</td>\n",
       "      <td>25</td>\n",
       "      <td>9</td>\n",
       "      <td>8</td>\n",
       "      <td>18</td>\n",
       "      <td>19</td>\n",
       "      <td>120</td>\n",
       "    </tr>\n",
       "    <tr>\n",
       "      <th>13807</th>\n",
       "      <td>13807</td>\n",
       "      <td>1610612747</td>\n",
       "      <td>0021900040</td>\n",
       "      <td>OCT 27, 2019</td>\n",
       "      <td>LAL vs. CHA</td>\n",
       "      <td>W</td>\n",
       "      <td>2.0</td>\n",
       "      <td>1.0</td>\n",
       "      <td>0.667</td>\n",
       "      <td>240</td>\n",
       "      <td>49</td>\n",
       "      <td>93</td>\n",
       "      <td>0.527</td>\n",
       "      <td>11</td>\n",
       "      <td>31</td>\n",
       "      <td>0.355</td>\n",
       "      <td>11</td>\n",
       "      <td>14</td>\n",
       "      <td>0.786</td>\n",
       "      <td>10</td>\n",
       "      <td>37</td>\n",
       "      <td>47</td>\n",
       "      <td>30</td>\n",
       "      <td>7</td>\n",
       "      <td>8</td>\n",
       "      <td>13</td>\n",
       "      <td>22</td>\n",
       "      <td>120</td>\n",
       "    </tr>\n",
       "    <tr>\n",
       "      <th>13808</th>\n",
       "      <td>13808</td>\n",
       "      <td>1610612747</td>\n",
       "      <td>0021900025</td>\n",
       "      <td>OCT 25, 2019</td>\n",
       "      <td>LAL vs. UTA</td>\n",
       "      <td>W</td>\n",
       "      <td>1.0</td>\n",
       "      <td>1.0</td>\n",
       "      <td>0.500</td>\n",
       "      <td>240</td>\n",
       "      <td>34</td>\n",
       "      <td>86</td>\n",
       "      <td>0.395</td>\n",
       "      <td>8</td>\n",
       "      <td>26</td>\n",
       "      <td>0.308</td>\n",
       "      <td>19</td>\n",
       "      <td>24</td>\n",
       "      <td>0.792</td>\n",
       "      <td>11</td>\n",
       "      <td>31</td>\n",
       "      <td>42</td>\n",
       "      <td>19</td>\n",
       "      <td>14</td>\n",
       "      <td>9</td>\n",
       "      <td>14</td>\n",
       "      <td>21</td>\n",
       "      <td>95</td>\n",
       "    </tr>\n",
       "    <tr>\n",
       "      <th>13809</th>\n",
       "      <td>13809</td>\n",
       "      <td>1610612747</td>\n",
       "      <td>0021900002</td>\n",
       "      <td>OCT 22, 2019</td>\n",
       "      <td>LAL @ LAC</td>\n",
       "      <td>L</td>\n",
       "      <td>0.0</td>\n",
       "      <td>1.0</td>\n",
       "      <td>0.000</td>\n",
       "      <td>240</td>\n",
       "      <td>37</td>\n",
       "      <td>85</td>\n",
       "      <td>0.435</td>\n",
       "      <td>13</td>\n",
       "      <td>33</td>\n",
       "      <td>0.394</td>\n",
       "      <td>15</td>\n",
       "      <td>21</td>\n",
       "      <td>0.714</td>\n",
       "      <td>9</td>\n",
       "      <td>32</td>\n",
       "      <td>41</td>\n",
       "      <td>20</td>\n",
       "      <td>4</td>\n",
       "      <td>7</td>\n",
       "      <td>14</td>\n",
       "      <td>24</td>\n",
       "      <td>102</td>\n",
       "    </tr>\n",
       "  </tbody>\n",
       "</table>\n",
       "</div>"
      ],
      "text/plain": [
       "          id     Team_ID     Game_ID     GAME_DATE      MATCHUP WL    W    L  \\\n",
       "13805  13805  1610612747  0021900074  NOV 01, 2019    LAL @ DAL  W  4.0  1.0   \n",
       "13806  13806  1610612747  0021900054  OCT 29, 2019  LAL vs. MEM  W  3.0  1.0   \n",
       "13807  13807  1610612747  0021900040  OCT 27, 2019  LAL vs. CHA  W  2.0  1.0   \n",
       "13808  13808  1610612747  0021900025  OCT 25, 2019  LAL vs. UTA  W  1.0  1.0   \n",
       "13809  13809  1610612747  0021900002  OCT 22, 2019    LAL @ LAC  L  0.0  1.0   \n",
       "\n",
       "       W_PCT  MIN  FGM  FGA  FG_PCT  FG3M  FG3A  FG3_PCT  FTM  FTA  FT_PCT  \\\n",
       "13805  0.800  265   47   96   0.490     9    32    0.281   16   21   0.762   \n",
       "13806  0.750  240   40   86   0.465     7    26    0.269   33   39   0.846   \n",
       "13807  0.667  240   49   93   0.527    11    31    0.355   11   14   0.786   \n",
       "13808  0.500  240   34   86   0.395     8    26    0.308   19   24   0.792   \n",
       "13809  0.000  240   37   85   0.435    13    33    0.394   15   21   0.714   \n",
       "\n",
       "       OREB  DREB  REB  AST  STL  BLK  TOV  PF  PTS  \n",
       "13805     6    35   41   24   11    7   11  21  119  \n",
       "13806    10    44   54   25    9    8   18  19  120  \n",
       "13807    10    37   47   30    7    8   13  22  120  \n",
       "13808    11    31   42   19   14    9   14  21   95  \n",
       "13809     9    32   41   20    4    7   14  24  102  "
      ]
     },
     "execution_count": 2,
     "metadata": {},
     "output_type": "execute_result"
    }
   ],
   "source": [
    "conn = sqlite3.connect('teams_game_log.db')\n",
    "\n",
    "df_team = pd.read_sql_query('SELECT * FROM teamslog', conn)\n",
    "df_team.tail()"
   ]
  },
  {
   "cell_type": "code",
   "execution_count": 3,
   "metadata": {},
   "outputs": [
    {
     "data": {
      "text/html": [
       "<div>\n",
       "<style scoped>\n",
       "    .dataframe tbody tr th:only-of-type {\n",
       "        vertical-align: middle;\n",
       "    }\n",
       "\n",
       "    .dataframe tbody tr th {\n",
       "        vertical-align: top;\n",
       "    }\n",
       "\n",
       "    .dataframe thead th {\n",
       "        text-align: right;\n",
       "    }\n",
       "</style>\n",
       "<table border=\"1\" class=\"dataframe\">\n",
       "  <thead>\n",
       "    <tr style=\"text-align: right;\">\n",
       "      <th></th>\n",
       "      <th>id</th>\n",
       "      <th>SEASON_ID</th>\n",
       "      <th>Player_ID</th>\n",
       "      <th>Game_ID</th>\n",
       "      <th>GAME_DATE</th>\n",
       "      <th>MATCHUP</th>\n",
       "      <th>WL</th>\n",
       "      <th>MIN</th>\n",
       "      <th>FGM</th>\n",
       "      <th>FGA</th>\n",
       "      <th>FG_PCT</th>\n",
       "      <th>FG3M</th>\n",
       "      <th>FG3A</th>\n",
       "      <th>FG3_PCT</th>\n",
       "      <th>FTM</th>\n",
       "      <th>FTA</th>\n",
       "      <th>FT_PCT</th>\n",
       "      <th>OREB</th>\n",
       "      <th>DREB</th>\n",
       "      <th>REB</th>\n",
       "      <th>AST</th>\n",
       "      <th>STL</th>\n",
       "      <th>BLK</th>\n",
       "      <th>TOV</th>\n",
       "      <th>PF</th>\n",
       "      <th>PTS</th>\n",
       "      <th>PLUS_MINUS</th>\n",
       "      <th>VIDEO_AVAILABLE</th>\n",
       "    </tr>\n",
       "  </thead>\n",
       "  <tbody>\n",
       "    <tr>\n",
       "      <th>0</th>\n",
       "      <td>0</td>\n",
       "      <td>22013</td>\n",
       "      <td>203506</td>\n",
       "      <td>0021301227</td>\n",
       "      <td>APR 16, 2014</td>\n",
       "      <td>ORL vs. IND</td>\n",
       "      <td>L</td>\n",
       "      <td>17</td>\n",
       "      <td>2</td>\n",
       "      <td>8</td>\n",
       "      <td>0.250</td>\n",
       "      <td>0</td>\n",
       "      <td>1</td>\n",
       "      <td>0.000</td>\n",
       "      <td>0</td>\n",
       "      <td>0</td>\n",
       "      <td>0.00</td>\n",
       "      <td>0</td>\n",
       "      <td>2</td>\n",
       "      <td>2</td>\n",
       "      <td>1</td>\n",
       "      <td>1</td>\n",
       "      <td>0</td>\n",
       "      <td>2</td>\n",
       "      <td>2</td>\n",
       "      <td>4</td>\n",
       "      <td>-7</td>\n",
       "      <td>1</td>\n",
       "    </tr>\n",
       "    <tr>\n",
       "      <th>1</th>\n",
       "      <td>1</td>\n",
       "      <td>22013</td>\n",
       "      <td>203506</td>\n",
       "      <td>0021301208</td>\n",
       "      <td>APR 14, 2014</td>\n",
       "      <td>ORL @ CHI</td>\n",
       "      <td>L</td>\n",
       "      <td>23</td>\n",
       "      <td>3</td>\n",
       "      <td>8</td>\n",
       "      <td>0.375</td>\n",
       "      <td>1</td>\n",
       "      <td>3</td>\n",
       "      <td>0.333</td>\n",
       "      <td>3</td>\n",
       "      <td>4</td>\n",
       "      <td>0.75</td>\n",
       "      <td>0</td>\n",
       "      <td>3</td>\n",
       "      <td>3</td>\n",
       "      <td>4</td>\n",
       "      <td>1</td>\n",
       "      <td>0</td>\n",
       "      <td>3</td>\n",
       "      <td>1</td>\n",
       "      <td>10</td>\n",
       "      <td>3</td>\n",
       "      <td>1</td>\n",
       "    </tr>\n",
       "    <tr>\n",
       "      <th>2</th>\n",
       "      <td>2</td>\n",
       "      <td>22013</td>\n",
       "      <td>203506</td>\n",
       "      <td>0021301199</td>\n",
       "      <td>APR 13, 2014</td>\n",
       "      <td>ORL @ BKN</td>\n",
       "      <td>L</td>\n",
       "      <td>26</td>\n",
       "      <td>5</td>\n",
       "      <td>8</td>\n",
       "      <td>0.625</td>\n",
       "      <td>3</td>\n",
       "      <td>3</td>\n",
       "      <td>1.000</td>\n",
       "      <td>1</td>\n",
       "      <td>2</td>\n",
       "      <td>0.50</td>\n",
       "      <td>0</td>\n",
       "      <td>2</td>\n",
       "      <td>2</td>\n",
       "      <td>1</td>\n",
       "      <td>2</td>\n",
       "      <td>0</td>\n",
       "      <td>6</td>\n",
       "      <td>2</td>\n",
       "      <td>14</td>\n",
       "      <td>-13</td>\n",
       "      <td>1</td>\n",
       "    </tr>\n",
       "    <tr>\n",
       "      <th>3</th>\n",
       "      <td>3</td>\n",
       "      <td>22013</td>\n",
       "      <td>203506</td>\n",
       "      <td>0021301176</td>\n",
       "      <td>APR 11, 2014</td>\n",
       "      <td>ORL vs. WAS</td>\n",
       "      <td>L</td>\n",
       "      <td>16</td>\n",
       "      <td>3</td>\n",
       "      <td>5</td>\n",
       "      <td>0.600</td>\n",
       "      <td>0</td>\n",
       "      <td>0</td>\n",
       "      <td>0.000</td>\n",
       "      <td>0</td>\n",
       "      <td>0</td>\n",
       "      <td>0.00</td>\n",
       "      <td>0</td>\n",
       "      <td>2</td>\n",
       "      <td>2</td>\n",
       "      <td>1</td>\n",
       "      <td>2</td>\n",
       "      <td>0</td>\n",
       "      <td>3</td>\n",
       "      <td>5</td>\n",
       "      <td>6</td>\n",
       "      <td>-9</td>\n",
       "      <td>1</td>\n",
       "    </tr>\n",
       "    <tr>\n",
       "      <th>4</th>\n",
       "      <td>4</td>\n",
       "      <td>22013</td>\n",
       "      <td>203506</td>\n",
       "      <td>0021301163</td>\n",
       "      <td>APR 09, 2014</td>\n",
       "      <td>ORL vs. BKN</td>\n",
       "      <td>W</td>\n",
       "      <td>19</td>\n",
       "      <td>4</td>\n",
       "      <td>8</td>\n",
       "      <td>0.500</td>\n",
       "      <td>0</td>\n",
       "      <td>2</td>\n",
       "      <td>0.000</td>\n",
       "      <td>1</td>\n",
       "      <td>4</td>\n",
       "      <td>0.25</td>\n",
       "      <td>0</td>\n",
       "      <td>3</td>\n",
       "      <td>3</td>\n",
       "      <td>6</td>\n",
       "      <td>1</td>\n",
       "      <td>0</td>\n",
       "      <td>3</td>\n",
       "      <td>0</td>\n",
       "      <td>9</td>\n",
       "      <td>14</td>\n",
       "      <td>1</td>\n",
       "    </tr>\n",
       "  </tbody>\n",
       "</table>\n",
       "</div>"
      ],
      "text/plain": [
       "   id SEASON_ID  Player_ID     Game_ID     GAME_DATE      MATCHUP WL  MIN  \\\n",
       "0   0     22013     203506  0021301227  APR 16, 2014  ORL vs. IND  L   17   \n",
       "1   1     22013     203506  0021301208  APR 14, 2014    ORL @ CHI  L   23   \n",
       "2   2     22013     203506  0021301199  APR 13, 2014    ORL @ BKN  L   26   \n",
       "3   3     22013     203506  0021301176  APR 11, 2014  ORL vs. WAS  L   16   \n",
       "4   4     22013     203506  0021301163  APR 09, 2014  ORL vs. BKN  W   19   \n",
       "\n",
       "   FGM  FGA  FG_PCT  FG3M  FG3A  FG3_PCT  FTM  FTA  FT_PCT  OREB  DREB  REB  \\\n",
       "0    2    8   0.250     0     1    0.000    0    0    0.00     0     2    2   \n",
       "1    3    8   0.375     1     3    0.333    3    4    0.75     0     3    3   \n",
       "2    5    8   0.625     3     3    1.000    1    2    0.50     0     2    2   \n",
       "3    3    5   0.600     0     0    0.000    0    0    0.00     0     2    2   \n",
       "4    4    8   0.500     0     2    0.000    1    4    0.25     0     3    3   \n",
       "\n",
       "   AST  STL  BLK  TOV  PF  PTS  PLUS_MINUS  VIDEO_AVAILABLE  \n",
       "0    1    1    0    2   2    4          -7                1  \n",
       "1    4    1    0    3   1   10           3                1  \n",
       "2    1    2    0    6   2   14         -13                1  \n",
       "3    1    2    0    3   5    6          -9                1  \n",
       "4    6    1    0    3   0    9          14                1  "
      ]
     },
     "execution_count": 3,
     "metadata": {},
     "output_type": "execute_result"
    }
   ],
   "source": [
    "conn = sqlite3.connect('players_game_log.db')\n",
    "\n",
    "df_player = pd.read_sql_query('SELECT * FROM playerslog', conn)\n",
    "df_player.head()"
   ]
  },
  {
   "cell_type": "code",
   "execution_count": 4,
   "metadata": {},
   "outputs": [
    {
     "data": {
      "text/plain": [
       "(23846, 55)"
      ]
     },
     "execution_count": 4,
     "metadata": {},
     "output_type": "execute_result"
    }
   ],
   "source": [
    "df_combined = pd.merge(df_team, df_player, on='Game_ID')\n",
    "df_combined.shape"
   ]
  },
  {
   "cell_type": "code",
   "execution_count": 5,
   "metadata": {
    "scrolled": true
   },
   "outputs": [
    {
     "data": {
      "text/plain": [
       "Index(['id_x', 'Team_ID', 'Game_ID', 'GAME_DATE_x', 'MATCHUP_x', 'WL_x', 'W',\n",
       "       'L', 'W_PCT', 'MIN_x', 'FGM_x', 'FGA_x', 'FG_PCT_x', 'FG3M_x', 'FG3A_x',\n",
       "       'FG3_PCT_x', 'FTM_x', 'FTA_x', 'FT_PCT_x', 'OREB_x', 'DREB_x', 'REB_x',\n",
       "       'AST_x', 'STL_x', 'BLK_x', 'TOV_x', 'PF_x', 'PTS_x', 'id_y',\n",
       "       'SEASON_ID', 'Player_ID', 'GAME_DATE_y', 'MATCHUP_y', 'WL_y', 'MIN_y',\n",
       "       'FGM_y', 'FGA_y', 'FG_PCT_y', 'FG3M_y', 'FG3A_y', 'FG3_PCT_y', 'FTM_y',\n",
       "       'FTA_y', 'FT_PCT_y', 'OREB_y', 'DREB_y', 'REB_y', 'AST_y', 'STL_y',\n",
       "       'BLK_y', 'TOV_y', 'PF_y', 'PTS_y', 'PLUS_MINUS', 'VIDEO_AVAILABLE'],\n",
       "      dtype='object')"
      ]
     },
     "execution_count": 5,
     "metadata": {},
     "output_type": "execute_result"
    }
   ],
   "source": [
    "df_combined = df_combined.drop_duplicates(subset=['Game_ID'])\n",
    "df_combined.columns"
   ]
  },
  {
   "cell_type": "code",
   "execution_count": null,
   "metadata": {},
   "outputs": [],
   "source": []
  },
  {
   "cell_type": "code",
   "execution_count": 7,
   "metadata": {},
   "outputs": [],
   "source": [
    "# Combined df\n",
    "df = df_combined[['PTS_x', 'PTS_y', 'Game_ID', 'Player_ID', 'WL_x', 'PLUS_MINUS']]\n"
   ]
  },
  {
   "cell_type": "code",
   "execution_count": 8,
   "metadata": {},
   "outputs": [
    {
     "data": {
      "text/html": [
       "<div>\n",
       "<style scoped>\n",
       "    .dataframe tbody tr th:only-of-type {\n",
       "        vertical-align: middle;\n",
       "    }\n",
       "\n",
       "    .dataframe tbody tr th {\n",
       "        vertical-align: top;\n",
       "    }\n",
       "\n",
       "    .dataframe thead th {\n",
       "        text-align: right;\n",
       "    }\n",
       "</style>\n",
       "<table border=\"1\" class=\"dataframe\">\n",
       "  <thead>\n",
       "    <tr style=\"text-align: right;\">\n",
       "      <th></th>\n",
       "      <th>TEAM_PTS</th>\n",
       "      <th>PLAYER_PTS</th>\n",
       "      <th>Game_ID</th>\n",
       "      <th>PLAYER_ID</th>\n",
       "      <th>W_L</th>\n",
       "      <th>PLUS_MINUS</th>\n",
       "    </tr>\n",
       "  </thead>\n",
       "  <tbody>\n",
       "    <tr>\n",
       "      <th>0</th>\n",
       "      <td>86</td>\n",
       "      <td>4</td>\n",
       "      <td>0021301227</td>\n",
       "      <td>203506</td>\n",
       "      <td>L</td>\n",
       "      <td>-7</td>\n",
       "    </tr>\n",
       "    <tr>\n",
       "      <th>2</th>\n",
       "      <td>95</td>\n",
       "      <td>10</td>\n",
       "      <td>0021301208</td>\n",
       "      <td>203506</td>\n",
       "      <td>L</td>\n",
       "      <td>3</td>\n",
       "    </tr>\n",
       "    <tr>\n",
       "      <th>6</th>\n",
       "      <td>88</td>\n",
       "      <td>14</td>\n",
       "      <td>0021301199</td>\n",
       "      <td>203506</td>\n",
       "      <td>L</td>\n",
       "      <td>-13</td>\n",
       "    </tr>\n",
       "    <tr>\n",
       "      <th>7</th>\n",
       "      <td>86</td>\n",
       "      <td>6</td>\n",
       "      <td>0021301176</td>\n",
       "      <td>203506</td>\n",
       "      <td>L</td>\n",
       "      <td>-9</td>\n",
       "    </tr>\n",
       "    <tr>\n",
       "      <th>8</th>\n",
       "      <td>115</td>\n",
       "      <td>9</td>\n",
       "      <td>0021301163</td>\n",
       "      <td>203506</td>\n",
       "      <td>W</td>\n",
       "      <td>14</td>\n",
       "    </tr>\n",
       "  </tbody>\n",
       "</table>\n",
       "</div>"
      ],
      "text/plain": [
       "   TEAM_PTS  PLAYER_PTS     Game_ID  PLAYER_ID W_L  PLUS_MINUS\n",
       "0        86           4  0021301227     203506   L          -7\n",
       "2        95          10  0021301208     203506   L           3\n",
       "6        88          14  0021301199     203506   L         -13\n",
       "7        86           6  0021301176     203506   L          -9\n",
       "8       115           9  0021301163     203506   W          14"
      ]
     },
     "execution_count": 8,
     "metadata": {},
     "output_type": "execute_result"
    }
   ],
   "source": [
    "df = df.rename(columns={'PTS_x': 'TEAM_PTS',\n",
    "                   'WL_x': 'W_L', 'PTS_y': 'PLAYER_PTS',\n",
    "                    'Player_ID': 'PLAYER_ID'})\n",
    "df.head()"
   ]
  },
  {
   "cell_type": "code",
   "execution_count": 9,
   "metadata": {},
   "outputs": [],
   "source": [
    "# Created df to get_dummies for y\n",
    "df_W_L = df['W_L']\n",
    "df_W_L = pd.get_dummies(df_W_L)\n",
    "df_W_L.drop('L', axis=1, inplace=True)"
   ]
  },
  {
   "cell_type": "code",
   "execution_count": 10,
   "metadata": {},
   "outputs": [
    {
     "data": {
      "text/html": [
       "<div>\n",
       "<style scoped>\n",
       "    .dataframe tbody tr th:only-of-type {\n",
       "        vertical-align: middle;\n",
       "    }\n",
       "\n",
       "    .dataframe tbody tr th {\n",
       "        vertical-align: top;\n",
       "    }\n",
       "\n",
       "    .dataframe thead th {\n",
       "        text-align: right;\n",
       "    }\n",
       "</style>\n",
       "<table border=\"1\" class=\"dataframe\">\n",
       "  <thead>\n",
       "    <tr style=\"text-align: right;\">\n",
       "      <th></th>\n",
       "      <th>W</th>\n",
       "    </tr>\n",
       "  </thead>\n",
       "  <tbody>\n",
       "    <tr>\n",
       "      <th>0</th>\n",
       "      <td>0</td>\n",
       "    </tr>\n",
       "    <tr>\n",
       "      <th>2</th>\n",
       "      <td>0</td>\n",
       "    </tr>\n",
       "    <tr>\n",
       "      <th>6</th>\n",
       "      <td>0</td>\n",
       "    </tr>\n",
       "    <tr>\n",
       "      <th>7</th>\n",
       "      <td>0</td>\n",
       "    </tr>\n",
       "    <tr>\n",
       "      <th>8</th>\n",
       "      <td>1</td>\n",
       "    </tr>\n",
       "  </tbody>\n",
       "</table>\n",
       "</div>"
      ],
      "text/plain": [
       "   W\n",
       "0  0\n",
       "2  0\n",
       "6  0\n",
       "7  0\n",
       "8  1"
      ]
     },
     "execution_count": 10,
     "metadata": {},
     "output_type": "execute_result"
    }
   ],
   "source": [
    "df_W_L.head()"
   ]
  },
  {
   "cell_type": "code",
   "execution_count": 11,
   "metadata": {},
   "outputs": [],
   "source": [
    "# Combined df\n",
    "df = pd.concat([df, df_W_L], axis=1)"
   ]
  },
  {
   "cell_type": "code",
   "execution_count": 12,
   "metadata": {},
   "outputs": [
    {
     "data": {
      "text/html": [
       "<div>\n",
       "<style scoped>\n",
       "    .dataframe tbody tr th:only-of-type {\n",
       "        vertical-align: middle;\n",
       "    }\n",
       "\n",
       "    .dataframe tbody tr th {\n",
       "        vertical-align: top;\n",
       "    }\n",
       "\n",
       "    .dataframe thead th {\n",
       "        text-align: right;\n",
       "    }\n",
       "</style>\n",
       "<table border=\"1\" class=\"dataframe\">\n",
       "  <thead>\n",
       "    <tr style=\"text-align: right;\">\n",
       "      <th></th>\n",
       "      <th>TEAM_PTS</th>\n",
       "      <th>PLAYER_PTS</th>\n",
       "      <th>Game_ID</th>\n",
       "      <th>PLAYER_ID</th>\n",
       "      <th>W_L</th>\n",
       "      <th>PLUS_MINUS</th>\n",
       "      <th>W</th>\n",
       "    </tr>\n",
       "  </thead>\n",
       "  <tbody>\n",
       "    <tr>\n",
       "      <th>0</th>\n",
       "      <td>86</td>\n",
       "      <td>4</td>\n",
       "      <td>0021301227</td>\n",
       "      <td>203506</td>\n",
       "      <td>L</td>\n",
       "      <td>-7</td>\n",
       "      <td>0</td>\n",
       "    </tr>\n",
       "    <tr>\n",
       "      <th>2</th>\n",
       "      <td>95</td>\n",
       "      <td>10</td>\n",
       "      <td>0021301208</td>\n",
       "      <td>203506</td>\n",
       "      <td>L</td>\n",
       "      <td>3</td>\n",
       "      <td>0</td>\n",
       "    </tr>\n",
       "    <tr>\n",
       "      <th>6</th>\n",
       "      <td>88</td>\n",
       "      <td>14</td>\n",
       "      <td>0021301199</td>\n",
       "      <td>203506</td>\n",
       "      <td>L</td>\n",
       "      <td>-13</td>\n",
       "      <td>0</td>\n",
       "    </tr>\n",
       "    <tr>\n",
       "      <th>7</th>\n",
       "      <td>86</td>\n",
       "      <td>6</td>\n",
       "      <td>0021301176</td>\n",
       "      <td>203506</td>\n",
       "      <td>L</td>\n",
       "      <td>-9</td>\n",
       "      <td>0</td>\n",
       "    </tr>\n",
       "    <tr>\n",
       "      <th>8</th>\n",
       "      <td>115</td>\n",
       "      <td>9</td>\n",
       "      <td>0021301163</td>\n",
       "      <td>203506</td>\n",
       "      <td>W</td>\n",
       "      <td>14</td>\n",
       "      <td>1</td>\n",
       "    </tr>\n",
       "  </tbody>\n",
       "</table>\n",
       "</div>"
      ],
      "text/plain": [
       "   TEAM_PTS  PLAYER_PTS     Game_ID  PLAYER_ID W_L  PLUS_MINUS  W\n",
       "0        86           4  0021301227     203506   L          -7  0\n",
       "2        95          10  0021301208     203506   L           3  0\n",
       "6        88          14  0021301199     203506   L         -13  0\n",
       "7        86           6  0021301176     203506   L          -9  0\n",
       "8       115           9  0021301163     203506   W          14  1"
      ]
     },
     "execution_count": 12,
     "metadata": {},
     "output_type": "execute_result"
    }
   ],
   "source": [
    "df.head()"
   ]
  },
  {
   "cell_type": "code",
   "execution_count": 13,
   "metadata": {},
   "outputs": [],
   "source": [
    "oladip_df = df.loc[df['PLAYER_ID']==203506]\n",
    "towns_df = df.loc[df['PLAYER_ID']==1626157]\n",
    "jokic_df = df.loc[df['PLAYER_ID']==203999]\n",
    "irving_df = df.loc[df['PLAYER_ID']==202681]\n",
    "horford_df = df.loc[df['PLAYER_ID']==201143]\n",
    "lillard_df = df.loc[df['PLAYER_ID']==203081]\n",
    "gobert_df = df.loc[df['PLAYER_ID']==203497]\n",
    "green_df = df.loc[df['PLAYER_ID']==203110]\n",
    "leonard_df = df.loc[df['PLAYER_ID']==202695]\n",
    "george_df = df.loc[df['PLAYER_ID']==202331]\n",
    "butler_df = df.loc[df['PLAYER_ID']==202710]\n",
    "embiid_df = df.loc[df['PLAYER_ID']==203954]\n",
    "paul_df = df.loc[df['PLAYER_ID']==101108]\n",
    "westbrook_df = df.loc[df['PLAYER_ID']==201566]\n",
    "antetokounmpo_df = df.loc[df['PLAYER_ID']==203507]\n",
    "davis_df = df.loc[df['PLAYER_ID']==203076]\n",
    "harden_df = df.loc[df['PLAYER_ID']==201935]\n",
    "curry_df = df.loc[df['PLAYER_ID']==201939]\n",
    "durant_df = df.loc[df['PLAYER_ID']==201142]\n",
    "james_df = df.loc[df['PLAYER_ID']==2544]"
   ]
  },
  {
   "cell_type": "code",
   "execution_count": 14,
   "metadata": {},
   "outputs": [
    {
     "name": "stderr",
     "output_type": "stream",
     "text": [
      "C:\\Users\\ktung\\Anaconda3\\envs\\PythonData\\lib\\site-packages\\pandas\\core\\frame.py:4097: SettingWithCopyWarning: \n",
      "A value is trying to be set on a copy of a slice from a DataFrame\n",
      "\n",
      "See the caveats in the documentation: http://pandas.pydata.org/pandas-docs/stable/user_guide/indexing.html#returning-a-view-versus-a-copy\n",
      "  errors=errors,\n"
     ]
    }
   ],
   "source": [
    "col_id= ['PLAYER_ID', 'Game_ID', 'W_L']\n",
    "oladip_df.drop(col_id, axis=1, inplace=True)\n",
    "towns_df.drop(col_id, axis=1, inplace=True)\n",
    "jokic_df.drop(col_id, axis=1, inplace=True)\n",
    "irving_df.drop(col_id, axis=1, inplace=True)\n",
    "horford_df.drop(col_id, axis=1, inplace=True)\n",
    "lillard_df.drop(col_id, axis=1, inplace=True)\n",
    "gobert_df.drop(col_id, axis=1, inplace=True)\n",
    "green_df.drop(col_id, axis=1, inplace=True)\n",
    "leonard_df.drop(col_id, axis=1, inplace=True)\n",
    "george_df.drop(col_id, axis=1, inplace=True)\n",
    "butler_df.drop(col_id, axis=1, inplace=True)\n",
    "embiid_df.drop(col_id, axis=1, inplace=True)\n",
    "paul_df.drop(col_id, axis=1, inplace=True)\n",
    "westbrook_df.drop(col_id, axis=1, inplace=True)\n",
    "antetokounmpo_df.drop(col_id, axis=1, inplace=True)\n",
    "davis_df.drop(col_id, axis=1, inplace=True)\n",
    "harden_df.drop(col_id, axis=1, inplace=True)\n",
    "curry_df.drop(col_id, axis=1, inplace=True)\n",
    "durant_df.drop(col_id, axis=1, inplace=True)\n",
    "james_df.drop(col_id, axis=1, inplace=True)"
   ]
  },
  {
   "cell_type": "code",
   "execution_count": 15,
   "metadata": {},
   "outputs": [
    {
     "data": {
      "text/html": [
       "<div>\n",
       "<style scoped>\n",
       "    .dataframe tbody tr th:only-of-type {\n",
       "        vertical-align: middle;\n",
       "    }\n",
       "\n",
       "    .dataframe tbody tr th {\n",
       "        vertical-align: top;\n",
       "    }\n",
       "\n",
       "    .dataframe thead th {\n",
       "        text-align: right;\n",
       "    }\n",
       "</style>\n",
       "<table border=\"1\" class=\"dataframe\">\n",
       "  <thead>\n",
       "    <tr style=\"text-align: right;\">\n",
       "      <th></th>\n",
       "      <th>TEAM_PTS</th>\n",
       "      <th>PLAYER_PTS</th>\n",
       "      <th>PLUS_MINUS</th>\n",
       "      <th>W</th>\n",
       "    </tr>\n",
       "  </thead>\n",
       "  <tbody>\n",
       "    <tr>\n",
       "      <th>0</th>\n",
       "      <td>86</td>\n",
       "      <td>4</td>\n",
       "      <td>-7</td>\n",
       "      <td>0</td>\n",
       "    </tr>\n",
       "    <tr>\n",
       "      <th>2</th>\n",
       "      <td>95</td>\n",
       "      <td>10</td>\n",
       "      <td>3</td>\n",
       "      <td>0</td>\n",
       "    </tr>\n",
       "    <tr>\n",
       "      <th>6</th>\n",
       "      <td>88</td>\n",
       "      <td>14</td>\n",
       "      <td>-13</td>\n",
       "      <td>0</td>\n",
       "    </tr>\n",
       "    <tr>\n",
       "      <th>7</th>\n",
       "      <td>86</td>\n",
       "      <td>6</td>\n",
       "      <td>-9</td>\n",
       "      <td>0</td>\n",
       "    </tr>\n",
       "    <tr>\n",
       "      <th>8</th>\n",
       "      <td>115</td>\n",
       "      <td>9</td>\n",
       "      <td>14</td>\n",
       "      <td>1</td>\n",
       "    </tr>\n",
       "  </tbody>\n",
       "</table>\n",
       "</div>"
      ],
      "text/plain": [
       "   TEAM_PTS  PLAYER_PTS  PLUS_MINUS  W\n",
       "0        86           4          -7  0\n",
       "2        95          10           3  0\n",
       "6        88          14         -13  0\n",
       "7        86           6          -9  0\n",
       "8       115           9          14  1"
      ]
     },
     "execution_count": 15,
     "metadata": {},
     "output_type": "execute_result"
    }
   ],
   "source": [
    "oladip_df.head()"
   ]
  },
  {
   "cell_type": "code",
   "execution_count": 16,
   "metadata": {},
   "outputs": [],
   "source": [
    "# oladip_df.to_pickle(\"DataFrame/oladip_df\")\n",
    "# towns_df.to_pickle(\"DataFrame/towns_df\")\n",
    "# jokic_df.to_pickle(\"DataFrame/jokic_df\")\n",
    "# irving_df.to_pickle(\"DataFrame/irving_df\")\n",
    "# horford_df.to_pickle(\"DataFrame/horford_df\")\n",
    "# lillard_df.to_pickle(\"DataFrame/lillard_df\")\n",
    "# gobert_df.to_pickle(\"DataFrame/gobert_df\")\n",
    "# green_df.to_pickle(\"DataFrame/green_df\")\n",
    "# leonard_df.to_pickle(\"DataFrame/leonard_df\")\n",
    "# george_df.to_pickle(\"DataFrame/george_df\")\n",
    "# butler_df.to_pickle(\"DataFrame/butler_df\")\n",
    "# embiid_df.to_pickle(\"DataFrame/embiid_df\")\n",
    "# paul_df.to_pickle(\"DataFrame/paul_df\")\n",
    "# westbrook_df.to_pickle(\"DataFrame/westbrook_df\")\n",
    "# antetokounmpo_df.to_pickle(\"DataFrame/antetokounmpo_df\")\n",
    "# davis_df.to_pickle(\"DataFrame/davis_df\")\n",
    "# harden_df.to_pickle(\"DataFrame/harden_df\")\n",
    "# curry_df.to_pickle(\"DataFrame/curry_df\")\n",
    "# durant_df.to_pickle(\"DataFrame/durant_df\")\n",
    "# james_df.to_pickle(\"DataFrame/james_df\")"
   ]
  },
  {
   "cell_type": "markdown",
   "metadata": {},
   "source": [
    "1. train_test_split to split data into 80/20\n",
    "\n",
    "2. cross_val_score to estimate the score on new data\n",
    "\n",
    "3. preprocessing for standard scaler to transform data so that mean value is 0 and std is 1\n",
    "\n",
    "4. Random_Forest_Classifier: A random forest is a meta estimator that fits a number of decision tree classifiers on various sub-samples of the dataset and uses averaging to improve the predictive accuracy and control over-fitting.\n",
    "\n",
    "5. Decision Tree Classifier: Decision tree builds classification or regression models in the form of a tree structure. It breaks down a dataset into smaller and smaller subsets while at the same time an associated decision tree is incrementally developed.\n",
    "\n",
    "6. LinearSVC: Support Vector Classifier) is to fit to the data you provide, returning a \"best fit\" hyperplane that divides, or categorizes, your data.\n",
    "\n",
    "7. Logistic Regression: a statistical method for analyzing a dataset in which there are one or more independent variables that determine an outcome. \n",
    "\n",
    "8. Voting Classifier:  a wrapper for set of different ones that are trained and valuated in parallel in order to exploit the different peculiarities of each algorithm\n",
    "\n",
    "9. Confusion matrix and accuracy score to see precision and recall\n",
    "\n",
    "10. Joblib to save the model"
   ]
  },
  {
   "cell_type": "code",
   "execution_count": 533,
   "metadata": {},
   "outputs": [],
   "source": [
    "from sklearn.pipeline import Pipeline\n",
    "from sklearn.preprocessing import StandardScaler\n",
    "from sklearn.impute import SimpleImputer\n",
    "from sklearn.model_selection import train_test_split, cross_val_score\n",
    "from sklearn.ensemble import RandomForestClassifier\n",
    "from sklearn.tree import DecisionTreeClassifier\n",
    "from sklearn.svm import LinearSVC\n",
    "from sklearn.linear_model import LogisticRegression\n",
    "from sklearn.feature_selection import RFE\n",
    "from sklearn.ensemble import VotingClassifier\n",
    "from sklearn.metrics import confusion_matrix, accuracy_score"
   ]
  },
  {
   "cell_type": "code",
   "execution_count": 18,
   "metadata": {},
   "outputs": [
    {
     "name": "stderr",
     "output_type": "stream",
     "text": [
      "C:\\Users\\ktung\\Anaconda3\\envs\\PythonData\\lib\\site-packages\\sklearn\\externals\\joblib\\__init__.py:15: DeprecationWarning: sklearn.externals.joblib is deprecated in 0.21 and will be removed in 0.23. Please import this functionality directly from joblib, which can be installed with: pip install joblib. If this warning is raised when loading pickled models, you may need to re-serialize those models with scikit-learn 0.21+.\n",
      "  warnings.warn(msg, category=DeprecationWarning)\n"
     ]
    }
   ],
   "source": [
    "from sklearn.externals import joblib"
   ]
  },
  {
   "cell_type": "code",
   "execution_count": 19,
   "metadata": {},
   "outputs": [],
   "source": [
    "# oladip_df.to_pickle(\"DataFrame/oladip_df\")\n",
    "# towns_df.to_pickle(\"DataFrame/towns_df\")\n",
    "# jokic_df.to_pickle(\"DataFrame/jokic_df\")\n",
    "# irving_df.to_pickle(\"DataFrame/irving_df\")\n",
    "# horford_df.to_pickle(\"DataFrame/horford_df\")\n",
    "# lillard_df.to_pickle(\"DataFrame/lillard_df\")\n",
    "# gobert_df.to_pickle(\"DataFrame/gobert_df\")\n",
    "# green_df.to_pickle(\"DataFrame/green_df\")\n",
    "# leonard_df.to_pickle(\"DataFrame/leonard_df\")\n",
    "# george_df.to_pickle(\"DataFrame/george_df\")\n",
    "# butler_df.to_pickle(\"DataFrame/butler_df\")\n",
    "# embiid_df.to_pickle(\"DataFrame/embiid_df\")\n",
    "# paul_df.to_pickle(\"DataFrame/paul_df\")\n",
    "# westbrook_df.to_pickle(\"DataFrame/westbrook_df\")\n",
    "# antetokounmpo_df.to_pickle(\"DataFrame/antetokounmpo_df\")\n",
    "# davis_df.to_pickle(\"DataFrame/davis_df\")\n",
    "# harden_df.to_pickle(\"DataFrame/harden_df\")\n",
    "# curry_df.to_pickle(\"DataFrame/curry_df\")\n",
    "# durant_df.to_pickle(\"DataFrame/durant_df\")\n",
    "# james_df.to_pickle(\"DataFrame/james_df\")"
   ]
  },
  {
   "cell_type": "code",
   "execution_count": 508,
   "metadata": {},
   "outputs": [
    {
     "name": "stdout",
     "output_type": "stream",
     "text": [
      "          TEAM_PTS  PLAYER_PTS  PLUS_MINUS\n",
      "X mean  100.376471   27.515294    5.044706\n",
      "X std    12.051789    8.196663   12.443810\n"
     ]
    }
   ],
   "source": [
    "\n",
    "y = np.array(james_df['W']).astype(int)\n",
    "X = james_df.drop('W', 1)\n",
    "\n",
    "df = (X.mean(axis=0), X.std(axis=0))\n",
    "df = pd.DataFrame(list(df))\n",
    "df = df.rename(index={0: 'X mean',\n",
    "               1: 'X std'})\n",
    "df = df.rename(columns={0: 'TEAM_PTS',\n",
    "                        1: 'PLAYER_PTS',\n",
    "                       2: 'PLUS_MINUS'})\n",
    "print(df)\n",
    "LeBronJames_win_stat = df\n",
    "LeBronJames_win_stat.to_pickle(\"win_stat/LeBronJames_win_stat\")"
   ]
  },
  {
   "cell_type": "code",
   "execution_count": 509,
   "metadata": {},
   "outputs": [],
   "source": [
    "#                0        1\n",
    "# 0          VictorOladipo_win_stat   203506\n",
    "# 1      Karl_AnthonyTowns_win_stat  1626157\n",
    "# 2            NikolaJokic_win_stat   203999\n",
    "# 3            KyrieIrving_win_stat   202681\n",
    "# 4              AlHorford_win_stat   201143\n",
    "# 5          DamianLillard_win_stat   203081\n",
    "# 6             RudyGobert_win_stat   203497\n",
    "# 7          DraymondGreen_win_stat   203110\n",
    "# 8           KawhiLeonard_win_stat   202695\n",
    "# 9             PaulGeorge_win_stat  202331\n",
    "# 10           JimmyButler_win_stat   202710\n",
    "# 11            JoelEmbiid_win_stat   203954\n",
    "# 12             ChrisPaul_win_stat   101108\n",
    "# 13      RussellWestbrook_win_stat  201566\n",
    "# 14  GiannisAntetokounmpo_win_stat   203507\n",
    "# 15          AnthonyDavis_win_stat  203076\n",
    "# 16           JamesHarden_win_stat  201935\n",
    "# 17          StephenCurry_win_stat   201939\n",
    "# 18           KevinDurant_win_stat   201142\n",
    "# 19           LeBronJames_win_stat     2544"
   ]
  },
  {
   "cell_type": "code",
   "execution_count": 510,
   "metadata": {},
   "outputs": [],
   "source": [
    "\n",
    "\n",
    "X_train, X_test, y_train, y_test = train_test_split(X, y, test_size = 0.2, random_state=42)"
   ]
  },
  {
   "cell_type": "code",
   "execution_count": null,
   "metadata": {},
   "outputs": [],
   "source": []
  },
  {
   "cell_type": "code",
   "execution_count": 511,
   "metadata": {},
   "outputs": [],
   "source": [
    "num_pipeline = Pipeline([\n",
    "    ('imputer', SimpleImputer(strategy='median')),\n",
    "    ('std_scaler', StandardScaler()),\n",
    "])\n",
    "\n",
    "X_train = num_pipeline.fit_transform(X_train)\n",
    "X_test = num_pipeline.transform(X_test)"
   ]
  },
  {
   "cell_type": "code",
   "execution_count": 512,
   "metadata": {},
   "outputs": [
    {
     "data": {
      "text/plain": [
       "(680, 3)"
      ]
     },
     "execution_count": 512,
     "metadata": {},
     "output_type": "execute_result"
    }
   ],
   "source": [
    "X_train.shape\n"
   ]
  },
  {
   "cell_type": "code",
   "execution_count": null,
   "metadata": {},
   "outputs": [],
   "source": []
  },
  {
   "cell_type": "code",
   "execution_count": 513,
   "metadata": {},
   "outputs": [],
   "source": [
    "# oladip_df_X = pd.DataFrame(X_train.columns).to_pickle(\"X_train_columns/oladip_df_X\")\n",
    "# towns_df_X = pd.DataFrame(X_train.columns).to_pickle(\"X_train_columns/towns_df_X\")\n",
    "# jokic_df_X = pd.DataFrame(X_train.columns).to_pickle(\"X_train_columns/jokic_df_X\")\n",
    "# irving_df_X = pd.DataFrame(X_train.columns).to_pickle(\"X_train_columns/irving_df_X\")\n",
    "# horford_df_X = pd.DataFrame(X_train.columns).to_pickle(\"X_train_columns/horford_df\")\n",
    "# lillard_df_X = pd.DataFrame(X_train.columns).to_pickle(\"X_train_columns/lillard_df_X\")\n",
    "# gobert_df_X = pd.DataFrame(X_train.columns).to_pickle(\"X_train_columns/gobert_df_X\")\n",
    "# green_df_X = pd.DataFrame(X_train.columns).to_pickle(\"X_train_columns/green_df_X\")\n",
    "# leonard_df_X = pd.DataFrame(X_train.columns).to_pickle(\"X_train_columns/leonard_df_X\")\n",
    "# george_df_X = pd.DataFrame(X_train.columns).to_pickle(\"X_train_columns/george_df_X\")\n",
    "# butler_df_X = pd.DataFrame(X_train.columns).to_pickle(\"X_train_columns/butler_df_X\")\n",
    "# embiid_df_X = pd.DataFrame(X_train.columns).to_pickle(\"X_train_columns/embiid_df\")\n",
    "# paul_df_X = pd.DataFrame(X_train.columns).to_pickle(\"X_train_columns/paul_df\")\n",
    "# westbrook_df_X = pd.DataFrame(X_train.columns).to_pickle(\"X_train_columns/westbrook_df\")\n",
    "# antetokounmpo_df_X = pd.DataFrame(X_train.columns).to_pickle(\"X_train_columns/antetokounmpo_df_X\")\n",
    "# davis_df_X = pd.DataFrame(X_train.columns).to_pickle(\"X_train_columns/davis_df_X\")\n",
    "# harden_df_X = pd.DataFrame(X_train.columns).to_pickle(\"X_train_columns/harden_df_X\")\n",
    "# curry_df_X = pd.DataFrame(X_train.columns).to_pickle(\"X_train_columns/curry_df_X\")\n",
    "# durant_df_X = pd.DataFrame(X_train.columns).to_pickle(\"X_train_columns/durant_df_X\")\n",
    "# james_df_X = pd.DataFrame(X_train.columns).to_pickle(\"X_train_columns/james_df_X\")"
   ]
  },
  {
   "cell_type": "code",
   "execution_count": 514,
   "metadata": {},
   "outputs": [],
   "source": [
    "log_clf = LogisticRegression()\n",
    "svm_clf = LinearSVC(random_state=42)\n",
    "decision_tree_clf = DecisionTreeClassifier(random_state=42)\n",
    "random_forest_clf = RandomForestClassifier(n_estimators=1000, random_state=42)\n"
   ]
  },
  {
   "cell_type": "code",
   "execution_count": 515,
   "metadata": {},
   "outputs": [],
   "source": [
    "named_estimators = [\n",
    "    ('Log_clf', log_clf),\n",
    "    ('svm_clf', svm_clf),\n",
    "    ('decision_tree', decision_tree_clf),\n",
    "    ('random_forest_clf', random_forest_clf),\n",
    "]"
   ]
  },
  {
   "cell_type": "code",
   "execution_count": 516,
   "metadata": {},
   "outputs": [
    {
     "name": "stdout",
     "output_type": "stream",
     "text": [
      "Training the LogisticRegression(C=1.0, class_weight=None, dual=False, fit_intercept=True,\n",
      "                   intercept_scaling=1, l1_ratio=None, max_iter=100,\n",
      "                   multi_class='warn', n_jobs=None, penalty='l2',\n",
      "                   random_state=None, solver='warn', tol=0.0001, verbose=0,\n",
      "                   warm_start=False)\n",
      "Training the LinearSVC(C=1.0, class_weight=None, dual=True, fit_intercept=True,\n",
      "          intercept_scaling=1, loss='squared_hinge', max_iter=1000,\n",
      "          multi_class='ovr', penalty='l2', random_state=42, tol=0.0001,\n",
      "          verbose=0)\n",
      "Training the ExtraTreesClassifier(bootstrap=False, class_weight=None, criterion='entropy',\n",
      "                     max_depth=None, max_features=3, max_leaf_nodes=None,\n",
      "                     min_impurity_decrease=0.0, min_impurity_split=None,\n",
      "                     min_samples_leaf=1, min_samples_split=2,\n",
      "                     min_weight_fraction_leaf=0.0, n_estimators=1000,\n",
      "                     n_jobs=None, oob_score=False, random_state=42, verbose=0,\n",
      "                     warm_start=False)\n"
     ]
    },
    {
     "name": "stderr",
     "output_type": "stream",
     "text": [
      "C:\\Users\\ktung\\Anaconda3\\envs\\PythonData\\lib\\site-packages\\sklearn\\linear_model\\logistic.py:432: FutureWarning: Default solver will be changed to 'lbfgs' in 0.22. Specify a solver to silence this warning.\n",
      "  FutureWarning)\n"
     ]
    },
    {
     "name": "stdout",
     "output_type": "stream",
     "text": [
      "Training the RandomForestClassifier(bootstrap=True, class_weight=None, criterion='gini',\n",
      "                       max_depth=None, max_features='auto', max_leaf_nodes=None,\n",
      "                       min_impurity_decrease=0.0, min_impurity_split=None,\n",
      "                       min_samples_leaf=1, min_samples_split=2,\n",
      "                       min_weight_fraction_leaf=0.0, n_estimators=1000,\n",
      "                       n_jobs=None, oob_score=False, random_state=42, verbose=0,\n",
      "                       warm_start=False)\n"
     ]
    }
   ],
   "source": [
    "estimators = [log_clf, svm_clf, decision_tree_clf, random_forest_clf]\n",
    "for estimator in estimators:\n",
    "    print('Training the', estimator)\n",
    "    estimator.fit(X_train, y_train)"
   ]
  },
  {
   "cell_type": "code",
   "execution_count": 517,
   "metadata": {},
   "outputs": [],
   "source": [
    "voting_clf = VotingClassifier(named_estimators)\n"
   ]
  },
  {
   "cell_type": "code",
   "execution_count": 518,
   "metadata": {},
   "outputs": [
    {
     "name": "stderr",
     "output_type": "stream",
     "text": [
      "C:\\Users\\ktung\\Anaconda3\\envs\\PythonData\\lib\\site-packages\\sklearn\\linear_model\\logistic.py:432: FutureWarning: Default solver will be changed to 'lbfgs' in 0.22. Specify a solver to silence this warning.\n",
      "  FutureWarning)\n"
     ]
    },
    {
     "data": {
      "text/plain": [
       "VotingClassifier(estimators=[('Log_clf',\n",
       "                              LogisticRegression(C=1.0, class_weight=None,\n",
       "                                                 dual=False, fit_intercept=True,\n",
       "                                                 intercept_scaling=1,\n",
       "                                                 l1_ratio=None, max_iter=100,\n",
       "                                                 multi_class='warn',\n",
       "                                                 n_jobs=None, penalty='l2',\n",
       "                                                 random_state=None,\n",
       "                                                 solver='warn', tol=0.0001,\n",
       "                                                 verbose=0, warm_start=False)),\n",
       "                             ('svm_clf',\n",
       "                              LinearSVC(C=1.0, class_weight=None, dual=True,\n",
       "                                        fit_intercept=True,...\n",
       "                                                     class_weight=None,\n",
       "                                                     criterion='gini',\n",
       "                                                     max_depth=None,\n",
       "                                                     max_features='auto',\n",
       "                                                     max_leaf_nodes=None,\n",
       "                                                     min_impurity_decrease=0.0,\n",
       "                                                     min_impurity_split=None,\n",
       "                                                     min_samples_leaf=1,\n",
       "                                                     min_samples_split=2,\n",
       "                                                     min_weight_fraction_leaf=0.0,\n",
       "                                                     n_estimators=1000,\n",
       "                                                     n_jobs=None,\n",
       "                                                     oob_score=False,\n",
       "                                                     random_state=42, verbose=0,\n",
       "                                                     warm_start=False))],\n",
       "                 flatten_transform=True, n_jobs=None, voting='hard',\n",
       "                 weights=None)"
      ]
     },
     "execution_count": 518,
     "metadata": {},
     "output_type": "execute_result"
    }
   ],
   "source": [
    "voting_clf.fit(X_train, y_train)"
   ]
  },
  {
   "cell_type": "code",
   "execution_count": 519,
   "metadata": {
    "scrolled": false
   },
   "outputs": [
    {
     "data": {
      "text/plain": [
       "[LogisticRegression(C=1.0, class_weight=None, dual=False, fit_intercept=True,\n",
       "                    intercept_scaling=1, l1_ratio=None, max_iter=100,\n",
       "                    multi_class='warn', n_jobs=None, penalty='l2',\n",
       "                    random_state=None, solver='warn', tol=0.0001, verbose=0,\n",
       "                    warm_start=False),\n",
       " LinearSVC(C=1.0, class_weight=None, dual=True, fit_intercept=True,\n",
       "           intercept_scaling=1, loss='squared_hinge', max_iter=1000,\n",
       "           multi_class='ovr', penalty='l2', random_state=42, tol=0.0001,\n",
       "           verbose=0),\n",
       " ExtraTreesClassifier(bootstrap=False, class_weight=None, criterion='entropy',\n",
       "                      max_depth=None, max_features=3, max_leaf_nodes=None,\n",
       "                      min_impurity_decrease=0.0, min_impurity_split=None,\n",
       "                      min_samples_leaf=1, min_samples_split=2,\n",
       "                      min_weight_fraction_leaf=0.0, n_estimators=1000,\n",
       "                      n_jobs=None, oob_score=False, random_state=42, verbose=0,\n",
       "                      warm_start=False),\n",
       " RandomForestClassifier(bootstrap=True, class_weight=None, criterion='gini',\n",
       "                        max_depth=None, max_features='auto', max_leaf_nodes=None,\n",
       "                        min_impurity_decrease=0.0, min_impurity_split=None,\n",
       "                        min_samples_leaf=1, min_samples_split=2,\n",
       "                        min_weight_fraction_leaf=0.0, n_estimators=1000,\n",
       "                        n_jobs=None, oob_score=False, random_state=42, verbose=0,\n",
       "                        warm_start=False)]"
      ]
     },
     "execution_count": 519,
     "metadata": {},
     "output_type": "execute_result"
    }
   ],
   "source": [
    "voting_clf.estimators_"
   ]
  },
  {
   "cell_type": "code",
   "execution_count": 520,
   "metadata": {},
   "outputs": [
    {
     "data": {
      "text/plain": [
       "0.8470588235294118"
      ]
     },
     "execution_count": 520,
     "metadata": {},
     "output_type": "execute_result"
    }
   ],
   "source": [
    "voting_clf.score(X_test, y_test)"
   ]
  },
  {
   "cell_type": "code",
   "execution_count": 521,
   "metadata": {},
   "outputs": [],
   "source": [
    "estimator_score = [estimator.score(X_test, y_test) for estimator in voting_clf.estimators_]"
   ]
  },
  {
   "cell_type": "code",
   "execution_count": 522,
   "metadata": {},
   "outputs": [
    {
     "data": {
      "text/html": [
       "<div>\n",
       "<style scoped>\n",
       "    .dataframe tbody tr th:only-of-type {\n",
       "        vertical-align: middle;\n",
       "    }\n",
       "\n",
       "    .dataframe tbody tr th {\n",
       "        vertical-align: top;\n",
       "    }\n",
       "\n",
       "    .dataframe thead th {\n",
       "        text-align: right;\n",
       "    }\n",
       "</style>\n",
       "<table border=\"1\" class=\"dataframe\">\n",
       "  <thead>\n",
       "    <tr style=\"text-align: right;\">\n",
       "      <th></th>\n",
       "      <th>accuracy_score</th>\n",
       "    </tr>\n",
       "  </thead>\n",
       "  <tbody>\n",
       "    <tr>\n",
       "      <th>log_clf</th>\n",
       "      <td>0.864706</td>\n",
       "    </tr>\n",
       "    <tr>\n",
       "      <th>svm_clf</th>\n",
       "      <td>0.870588</td>\n",
       "    </tr>\n",
       "    <tr>\n",
       "      <th>extra_tree</th>\n",
       "      <td>0.794118</td>\n",
       "    </tr>\n",
       "    <tr>\n",
       "      <th>random_forest</th>\n",
       "      <td>0.841176</td>\n",
       "    </tr>\n",
       "  </tbody>\n",
       "</table>\n",
       "</div>"
      ],
      "text/plain": [
       "               accuracy_score\n",
       "log_clf              0.864706\n",
       "svm_clf              0.870588\n",
       "extra_tree           0.794118\n",
       "random_forest        0.841176"
      ]
     },
     "execution_count": 522,
     "metadata": {},
     "output_type": "execute_result"
    }
   ],
   "source": [
    "estimator_df = pd.DataFrame(estimator_score)\n",
    "idx_rename = {0:'log_clf', 1:'svm_clf', 2:'extra_tree', 3:'random_forest'}\n",
    "col_rename = {0: 'accuracy_score'}\n",
    "\n",
    "estimator_df = estimator_df.rename(index=idx_rename, columns=col_rename)\n",
    "estimator_df"
   ]
  },
  {
   "cell_type": "code",
   "execution_count": 494,
   "metadata": {},
   "outputs": [
    {
     "name": "stderr",
     "output_type": "stream",
     "text": [
      "C:\\Users\\ktung\\Anaconda3\\envs\\PythonData\\lib\\site-packages\\sklearn\\linear_model\\logistic.py:432: FutureWarning: Default solver will be changed to 'lbfgs' in 0.22. Specify a solver to silence this warning.\n",
      "  FutureWarning)\n",
      "C:\\Users\\ktung\\Anaconda3\\envs\\PythonData\\lib\\site-packages\\sklearn\\linear_model\\logistic.py:432: FutureWarning: Default solver will be changed to 'lbfgs' in 0.22. Specify a solver to silence this warning.\n",
      "  FutureWarning)\n",
      "C:\\Users\\ktung\\Anaconda3\\envs\\PythonData\\lib\\site-packages\\sklearn\\linear_model\\logistic.py:432: FutureWarning: Default solver will be changed to 'lbfgs' in 0.22. Specify a solver to silence this warning.\n",
      "  FutureWarning)\n"
     ]
    },
    {
     "data": {
      "text/plain": [
       "0.7777777777777778"
      ]
     },
     "execution_count": 494,
     "metadata": {},
     "output_type": "execute_result"
    }
   ],
   "source": [
    "voting_scores = cross_val_score(voting_clf, X_test, y_test, cv=3, scoring='accuracy')\n",
    "voting_scores.mean()"
   ]
  },
  {
   "cell_type": "code",
   "execution_count": 495,
   "metadata": {},
   "outputs": [
    {
     "data": {
      "text/plain": [
       "<matplotlib.axes._subplots.AxesSubplot at 0x1dd7ff578d0>"
      ]
     },
     "execution_count": 495,
     "metadata": {},
     "output_type": "execute_result"
    },
    {
     "data": {
      "image/png": "[encoded data removed]",
      "text/plain": [
       "<Figure size 432x288 with 2 Axes>"
      ]
     },
     "metadata": {
      "needs_background": "light"
     },
     "output_type": "display_data"
    }
   ],
   "source": [
    "voting_clf_pred = voting_clf.predict(X_test)\n",
    "matrix_log = confusion_matrix(y_test, voting_clf_pred)\n",
    "sn.heatmap(matrix_log, annot=True)"
   ]
  },
  {
   "cell_type": "code",
   "execution_count": null,
   "metadata": {},
   "outputs": [],
   "source": []
  },
  {
   "cell_type": "code",
   "execution_count": 523,
   "metadata": {},
   "outputs": [
    {
     "name": "stderr",
     "output_type": "stream",
     "text": [
      "C:\\Users\\ktung\\Anaconda3\\envs\\PythonData\\lib\\site-packages\\sklearn\\linear_model\\logistic.py:432: FutureWarning: Default solver will be changed to 'lbfgs' in 0.22. Specify a solver to silence this warning.\n",
      "  FutureWarning)\n",
      "C:\\Users\\ktung\\Anaconda3\\envs\\PythonData\\lib\\site-packages\\sklearn\\linear_model\\logistic.py:432: FutureWarning: Default solver will be changed to 'lbfgs' in 0.22. Specify a solver to silence this warning.\n",
      "  FutureWarning)\n",
      "C:\\Users\\ktung\\Anaconda3\\envs\\PythonData\\lib\\site-packages\\sklearn\\linear_model\\logistic.py:432: FutureWarning: Default solver will be changed to 'lbfgs' in 0.22. Specify a solver to silence this warning.\n",
      "  FutureWarning)\n"
     ]
    },
    {
     "data": {
      "text/plain": [
       "0.8648705096073517"
      ]
     },
     "execution_count": 523,
     "metadata": {},
     "output_type": "execute_result"
    }
   ],
   "source": [
    "log_scores = cross_val_score(log_clf, X_test, y_test, cv=3, scoring='accuracy')\n",
    "log_scores.mean()"
   ]
  },
  {
   "cell_type": "code",
   "execution_count": 524,
   "metadata": {},
   "outputs": [
    {
     "data": {
      "text/plain": [
       "<matplotlib.axes._subplots.AxesSubplot at 0x1dd0a0955f8>"
      ]
     },
     "execution_count": 524,
     "metadata": {},
     "output_type": "execute_result"
    },
    {
     "data": {
      "image/png": "[encoded data removed]",
      "text/plain": [
       "<Figure size 432x288 with 2 Axes>"
      ]
     },
     "metadata": {
      "needs_background": "light"
     },
     "output_type": "display_data"
    }
   ],
   "source": [
    "log_clf_pred = log_clf.predict(X_test)\n",
    "matrix_log = confusion_matrix(y_test, log_clf_pred)\n",
    "sn.heatmap(matrix_log, annot=True)"
   ]
  },
  {
   "cell_type": "code",
   "execution_count": null,
   "metadata": {},
   "outputs": [],
   "source": []
  },
  {
   "cell_type": "code",
   "execution_count": 525,
   "metadata": {},
   "outputs": [],
   "source": [
    "svm_clf_pred = svm_clf.predict(X_test)"
   ]
  },
  {
   "cell_type": "code",
   "execution_count": 526,
   "metadata": {},
   "outputs": [
    {
     "data": {
      "text/plain": [
       "0.870718462823726"
      ]
     },
     "execution_count": 526,
     "metadata": {},
     "output_type": "execute_result"
    }
   ],
   "source": [
    "svm_scores = cross_val_score(svm_clf, X_test, y_test, cv=3, scoring='accuracy')\n",
    "svm_scores.mean()"
   ]
  },
  {
   "cell_type": "code",
   "execution_count": 527,
   "metadata": {},
   "outputs": [
    {
     "data": {
      "text/plain": [
       "<matplotlib.axes._subplots.AxesSubplot at 0x1dd0c0cab38>"
      ]
     },
     "execution_count": 527,
     "metadata": {},
     "output_type": "execute_result"
    },
    {
     "data": {
      "image/png": "[encoded data removed]",
      "text/plain": [
       "<Figure size 432x288 with 2 Axes>"
      ]
     },
     "metadata": {
      "needs_background": "light"
     },
     "output_type": "display_data"
    }
   ],
   "source": [
    "matrix_svm = confusion_matrix(y_test, svm_clf_pred)\n",
    "sn.heatmap(matrix_svm, annot=True)"
   ]
  },
  {
   "cell_type": "code",
   "execution_count": null,
   "metadata": {},
   "outputs": [],
   "source": []
  },
  {
   "cell_type": "code",
   "execution_count": 109,
   "metadata": {},
   "outputs": [
    {
     "data": {
      "text/plain": [
       "[(0.43526678509738387, array([ 0.92438544, -0.15387715,  0.92898613])),\n",
       " (0.3512831496992661, array([-0.901721  , -0.86060936, -1.47368577])),\n",
       " (0.21345006520335008, array([-1.20607207,  0.19948895, -1.88793955]))]"
      ]
     },
     "execution_count": 109,
     "metadata": {},
     "output_type": "execute_result"
    }
   ],
   "source": [
    "feature_importance = decision_tree_clf.feature_importances_\n",
    "# feature_importance = pd.DataFrame(np.std([tree.feature_importances_ for tree in extra_trees_clf.estimators_], axis=0)).reset_index()\n",
    "# feature_importance = feature_importance.rename(columns={0: 'Feature'})\n",
    "sorted(zip(feature_importance, X_train), reverse=True)\n",
    "# feature_importance.sort_values('Feature', ascending=False)"
   ]
  },
  {
   "cell_type": "code",
   "execution_count": 103,
   "metadata": {},
   "outputs": [],
   "source": [
    "\n",
    "# # Plotting a Bar Graph to compare the models \n",
    "# plt.bar(X.columns, feature_importance[:5]) \n",
    "# plt.xlabel('Feature Labels') \n",
    "# plt.ylabel('Feature Importances') \n",
    "# plt.title('Comparison of different Feature Importances') \n",
    "# plt.show()"
   ]
  },
  {
   "cell_type": "code",
   "execution_count": 110,
   "metadata": {},
   "outputs": [
    {
     "data": {
      "text/plain": [
       "0.6771929824561402"
      ]
     },
     "execution_count": 110,
     "metadata": {},
     "output_type": "execute_result"
    }
   ],
   "source": [
    "decision_tree_scores = cross_val_score(decision_tree_clf, X_test, y_test, cv=3, scoring='accuracy')\n",
    "decision_tree_scores.mean()"
   ]
  },
  {
   "cell_type": "code",
   "execution_count": 57,
   "metadata": {},
   "outputs": [
    {
     "data": {
      "text/plain": [
       "<matplotlib.axes._subplots.AxesSubplot at 0x1dd4c85ca58>"
      ]
     },
     "execution_count": 57,
     "metadata": {},
     "output_type": "execute_result"
    },
    {
     "data": {
      "image/png": "[encoded data removed]",
      "text/plain": [
       "<Figure size 432x288 with 2 Axes>"
      ]
     },
     "metadata": {
      "needs_background": "light"
     },
     "output_type": "display_data"
    }
   ],
   "source": [
    "decision_tree_clf_pred = decision_tree_clf.predict(X_test)\n",
    "matrix_extra = confusion_matrix(y_test, decision_tree_clf_pred)\n",
    "sn.heatmap(matrix_extra, annot=True)"
   ]
  },
  {
   "cell_type": "code",
   "execution_count": 501,
   "metadata": {},
   "outputs": [
    {
     "data": {
      "text/plain": [
       "0.7777777777777778"
      ]
     },
     "execution_count": 501,
     "metadata": {},
     "output_type": "execute_result"
    }
   ],
   "source": [
    "forest_scores = cross_val_score(random_forest_clf, X_test, y_test, cv=3, scoring='accuracy')\n",
    "forest_scores.mean()"
   ]
  },
  {
   "cell_type": "code",
   "execution_count": 502,
   "metadata": {},
   "outputs": [
    {
     "data": {
      "text/plain": [
       "<matplotlib.axes._subplots.AxesSubplot at 0x1dd05f09a58>"
      ]
     },
     "execution_count": 502,
     "metadata": {},
     "output_type": "execute_result"
    },
    {
     "data": {
      "image/png": "[encoded data removed]",
      "text/plain": [
       "<Figure size 432x288 with 2 Axes>"
      ]
     },
     "metadata": {
      "needs_background": "light"
     },
     "output_type": "display_data"
    }
   ],
   "source": [
    "random_forest_clf_pred = random_forest_clf.predict(X_test)\n",
    "matrix_forest = confusion_matrix(y_test, random_forest_clf_pred)\n",
    "sn.heatmap(matrix_forest, annot=True)\n"
   ]
  },
  {
   "cell_type": "code",
   "execution_count": 64,
   "metadata": {},
   "outputs": [
    {
     "ename": "AttributeError",
     "evalue": "'numpy.ndarray' object has no attribute 'Columns'",
     "output_type": "error",
     "traceback": [
      "\u001b[1;31m---------------------------------------------------------------------------\u001b[0m",
      "\u001b[1;31mAttributeError\u001b[0m                            Traceback (most recent call last)",
      "\u001b[1;32m<ipython-input-64-fa1ad79899c9>\u001b[0m in \u001b[0;36m<module>\u001b[1;34m\u001b[0m\n\u001b[0;32m      1\u001b[0m \u001b[0mfeature_importance\u001b[0m \u001b[1;33m=\u001b[0m \u001b[0mrandom_forest_clf\u001b[0m\u001b[1;33m.\u001b[0m\u001b[0mfeature_importances_\u001b[0m\u001b[1;33m\u001b[0m\u001b[1;33m\u001b[0m\u001b[0m\n\u001b[1;32m----> 2\u001b[1;33m \u001b[0msorted\u001b[0m\u001b[1;33m(\u001b[0m\u001b[0mzip\u001b[0m\u001b[1;33m(\u001b[0m\u001b[0mfeature_importance\u001b[0m\u001b[1;33m,\u001b[0m \u001b[0mX_train\u001b[0m\u001b[1;33m.\u001b[0m\u001b[0mColumns\u001b[0m\u001b[1;33m)\u001b[0m\u001b[1;33m,\u001b[0m \u001b[0mreverse\u001b[0m\u001b[1;33m=\u001b[0m\u001b[1;32mTrue\u001b[0m\u001b[1;33m)\u001b[0m\u001b[1;33m\u001b[0m\u001b[1;33m\u001b[0m\u001b[0m\n\u001b[0m",
      "\u001b[1;31mAttributeError\u001b[0m: 'numpy.ndarray' object has no attribute 'Columns'"
     ]
    }
   ],
   "source": [
    "feature_importance = random_forest_clf.feature_importances_\n",
    "sorted(zip(feature_importance, X_train), reverse=True)"
   ]
  },
  {
   "cell_type": "code",
   "execution_count": 109,
   "metadata": {},
   "outputs": [
    {
     "data": {
      "text/plain": [
       "SelectFromModel(estimator=RandomForestClassifier(bootstrap=True,\n",
       "                                                 class_weight=None,\n",
       "                                                 criterion='gini',\n",
       "                                                 max_depth=None,\n",
       "                                                 max_features='auto',\n",
       "                                                 max_leaf_nodes=None,\n",
       "                                                 min_impurity_decrease=0.0,\n",
       "                                                 min_impurity_split=None,\n",
       "                                                 min_samples_leaf=1,\n",
       "                                                 min_samples_split=2,\n",
       "                                                 min_weight_fraction_leaf=0.0,\n",
       "                                                 n_estimators=1000, n_jobs=None,\n",
       "                                                 oob_score=False,\n",
       "                                                 random_state=42, verbose=0,\n",
       "                                                 warm_start=False),\n",
       "                max_features=None, norm_order=1, prefit=False, threshold=0.015)"
      ]
     },
     "execution_count": 109,
     "metadata": {},
     "output_type": "execute_result"
    }
   ],
   "source": [
    "# sfm = SelectFromModel(random_forest_clf, threshold=.015)\n",
    "# sfm.fit(X_train, y_train)"
   ]
  },
  {
   "cell_type": "code",
   "execution_count": 110,
   "metadata": {},
   "outputs": [
    {
     "name": "stdout",
     "output_type": "stream",
     "text": [
      "SHOT_DISTANCE\n",
      "angle\n",
      "ACTION_TYPE_Jump Shot\n"
     ]
    }
   ],
   "source": [
    "# for feature_list_index in sfm.get_support(indices=True):\n",
    "#     print(X_train.columns[feature_list_index])"
   ]
  },
  {
   "cell_type": "code",
   "execution_count": 112,
   "metadata": {},
   "outputs": [],
   "source": [
    "# X_important_train = sfm.transform(X_train)\n",
    "# X_important_test = sfm.transform(X_test)"
   ]
  },
  {
   "cell_type": "code",
   "execution_count": 113,
   "metadata": {},
   "outputs": [
    {
     "data": {
      "text/plain": [
       "RandomForestClassifier(bootstrap=True, class_weight=None, criterion='gini',\n",
       "                       max_depth=None, max_features='auto', max_leaf_nodes=None,\n",
       "                       min_impurity_decrease=0.0, min_impurity_split=None,\n",
       "                       min_samples_leaf=1, min_samples_split=2,\n",
       "                       min_weight_fraction_leaf=0.0, n_estimators=1000,\n",
       "                       n_jobs=None, oob_score=False, random_state=42, verbose=0,\n",
       "                       warm_start=False)"
      ]
     },
     "execution_count": 113,
     "metadata": {},
     "output_type": "execute_result"
    }
   ],
   "source": [
    "# clf_important = RandomForestClassifier(n_estimators=1000, random_state=42)\n",
    "# clf_important.fit(X_important_train, y_train)"
   ]
  },
  {
   "cell_type": "code",
   "execution_count": 114,
   "metadata": {},
   "outputs": [
    {
     "data": {
      "text/plain": [
       "0.5655105973025049"
      ]
     },
     "execution_count": 114,
     "metadata": {},
     "output_type": "execute_result"
    }
   ],
   "source": [
    "# y_important_pred = clf_important.predict(X_important_test)\n",
    "# accuracy_score(y_test, y_important_pred)"
   ]
  },
  {
   "cell_type": "code",
   "execution_count": 528,
   "metadata": {},
   "outputs": [],
   "source": [
    "filename = 'LeBronJames_w_l.model'"
   ]
  },
  {
   "cell_type": "code",
   "execution_count": 529,
   "metadata": {},
   "outputs": [
    {
     "data": {
      "text/plain": [
       "['LeBronJames_w_l.model']"
      ]
     },
     "execution_count": 529,
     "metadata": {},
     "output_type": "execute_result"
    }
   ],
   "source": [
    "# joblib.dump(log_clf, filename)\n",
    "joblib.dump(svm_clf, filename)\n",
    "# joblib.dump(extra_trees_clf, filename)\n",
    "# joblib.dump(random_forest_clf, filename)\n",
    "# joblib.dump(voting_clf, filename)"
   ]
  },
  {
   "cell_type": "code",
   "execution_count": 530,
   "metadata": {},
   "outputs": [],
   "source": [
    "loaded_model = joblib.load('LeBronJames_w_l.model')"
   ]
  },
  {
   "cell_type": "code",
   "execution_count": 531,
   "metadata": {},
   "outputs": [],
   "source": [
    "result = loaded_model.score(X_test, y_test)"
   ]
  },
  {
   "cell_type": "code",
   "execution_count": 532,
   "metadata": {},
   "outputs": [
    {
     "name": "stdout",
     "output_type": "stream",
     "text": [
      "0.8705882352941177\n"
     ]
    }
   ],
   "source": [
    "print(result)"
   ]
  },
  {
   "cell_type": "code",
   "execution_count": null,
   "metadata": {},
   "outputs": [],
   "source": [
    "#                0        1\n",
    "# 0          VictorOladipo_w_l   203506\n",
    "# 1      Karl_AnthonyTowns_w_l  1626157\n",
    "# 2            NikolaJokic_w_l   203999\n",
    "# 3            KyrieIrving_w_l   202681\n",
    "# 4              AlHorford_w_l   201143\n",
    "# 5          DamianLillard_w_l   203081\n",
    "# 6             RudyGobert_w_l   203497\n",
    "# 7          DraymondGreen_w_l   203110\n",
    "# 8           KawhiLeonard_w_l   202695\n",
    "# 9             PaulGeorge_w_l   202331\n",
    "# 10           JimmyButler_w_l   202710\n",
    "# 11            JoelEmbiid_w_l   203954\n",
    "# 12             ChrisPaul_w_l   101108\n",
    "# 13      RussellWestbrook_w_l   201566\n",
    "# 14  GiannisAntetokounmpo_w_l   203507\n",
    "# 15          AnthonyDavis_w_l   203076\n",
    "# 16           JamesHarden_w_l   201935\n",
    "# 17          StephenCurry_w_l   201939\n",
    "# 18           KevinDurant_w_l   201142\n",
    "# 19           LeBronJames_w_l     2544"
   ]
  }
 ],
 "metadata": {
  "kernelspec": {
   "display_name": "Python 3",
   "language": "python",
   "name": "python3"
  },
  "language_info": {
   "codemirror_mode": {
    "name": "ipython",
    "version": 3
   },
   "file_extension": ".py",
   "mimetype": "text/x-python",
   "name": "python",
   "nbconvert_exporter": "python",
   "pygments_lexer": "ipython3",
   "version": "3.6.8"
  }
 },
 "nbformat": 4,
 "nbformat_minor": 2
}
