{
 "cells": [
  {
   "cell_type": "markdown",
   "metadata": {},
   "source": [
    "Build ML model\n",
    "\n",
    "Goal: predict game result (win or lose) based on shot positions\n",
    "\n",
    "Step 1. predict made_shot% based on shot position (classification),\n",
    "then use the made% to input to step 2\n",
    "\n",
    "Step 2. predict player's score based on made% (regression), using the\n",
    "prediction fron step 1 predict player score and transfer prediction to \n",
    "step 3\n",
    "\n",
    "Step 3. predict team's score based on player's score (regression, requires a calculation of player's contribution to team's performance), based on \n",
    "the prediction of step 2 make team score predictation and transfer to \n",
    "step 4\n",
    "\n",
    "Step 4. predict win or lose based on team's score (classification), based \n",
    "on predictions from both step 2 and step 3 make win/loss prediction"
   ]
  },
  {
   "cell_type": "code",
   "execution_count": 1,
   "metadata": {},
   "outputs": [],
   "source": [
    "import sqlite3\n",
    "import pandas as pd\n",
    "from pandas import Series, DataFrame\n",
    "pd.set_option('display.max_columns', 999)\n",
    "import numpy as np\n",
    "import matplotlib as ml\n",
    "import matplotlib.pyplot as plt\n",
    "%matplotlib inline\n",
    "import seaborn as sn"
   ]
  },
  {
   "cell_type": "code",
   "execution_count": 2,
   "metadata": {
    "scrolled": false
   },
   "outputs": [
    {
     "data": {
      "text/html": [
       "<div>\n",
       "<style scoped>\n",
       "    .dataframe tbody tr th:only-of-type {\n",
       "        vertical-align: middle;\n",
       "    }\n",
       "\n",
       "    .dataframe tbody tr th {\n",
       "        vertical-align: top;\n",
       "    }\n",
       "\n",
       "    .dataframe thead th {\n",
       "        text-align: right;\n",
       "    }\n",
       "</style>\n",
       "<table border=\"1\" class=\"dataframe\">\n",
       "  <thead>\n",
       "    <tr style=\"text-align: right;\">\n",
       "      <th></th>\n",
       "      <th>id</th>\n",
       "      <th>GAME_ID</th>\n",
       "      <th>GAME_EVENT_ID</th>\n",
       "      <th>PLAYER_ID</th>\n",
       "      <th>PLAYER_NAME</th>\n",
       "      <th>TEAM_ID</th>\n",
       "      <th>TEAM_NAME</th>\n",
       "      <th>PERIOD</th>\n",
       "      <th>MINUTES_REMAINING</th>\n",
       "      <th>SECONDS_REMAINING</th>\n",
       "      <th>EVENT_TYPE</th>\n",
       "      <th>ACTION_TYPE</th>\n",
       "      <th>SHOT_TYPE</th>\n",
       "      <th>SHOT_ZONE_BASIC</th>\n",
       "      <th>SHOT_ZONE_AREA</th>\n",
       "      <th>SHOT_ZONE_RANGE</th>\n",
       "      <th>SHOT_DISTANCE</th>\n",
       "      <th>LOC_X</th>\n",
       "      <th>LOC_Y</th>\n",
       "      <th>SHOT_ATTEMPTED_FLAG</th>\n",
       "      <th>SHOT_MADE_FLAG</th>\n",
       "      <th>GAME_DATE</th>\n",
       "      <th>HTM</th>\n",
       "      <th>VTM</th>\n",
       "    </tr>\n",
       "  </thead>\n",
       "  <tbody>\n",
       "    <tr>\n",
       "      <th>181930</th>\n",
       "      <td>181930</td>\n",
       "      <td>0021900088</td>\n",
       "      <td>538</td>\n",
       "      <td>2544</td>\n",
       "      <td>LeBron James</td>\n",
       "      <td>1610612747</td>\n",
       "      <td>Los Angeles Lakers</td>\n",
       "      <td>4</td>\n",
       "      <td>9</td>\n",
       "      <td>3</td>\n",
       "      <td>Missed Shot</td>\n",
       "      <td>Jump Shot</td>\n",
       "      <td>2PT Field Goal</td>\n",
       "      <td>Mid-Range</td>\n",
       "      <td>Left Side(L)</td>\n",
       "      <td>16-24 ft.</td>\n",
       "      <td>18</td>\n",
       "      <td>-168</td>\n",
       "      <td>69</td>\n",
       "      <td>1</td>\n",
       "      <td>0</td>\n",
       "      <td>20191103</td>\n",
       "      <td>SAS</td>\n",
       "      <td>LAL</td>\n",
       "    </tr>\n",
       "    <tr>\n",
       "      <th>181931</th>\n",
       "      <td>181931</td>\n",
       "      <td>0021900088</td>\n",
       "      <td>553</td>\n",
       "      <td>2544</td>\n",
       "      <td>LeBron James</td>\n",
       "      <td>1610612747</td>\n",
       "      <td>Los Angeles Lakers</td>\n",
       "      <td>4</td>\n",
       "      <td>8</td>\n",
       "      <td>14</td>\n",
       "      <td>Missed Shot</td>\n",
       "      <td>Jump Shot</td>\n",
       "      <td>3PT Field Goal</td>\n",
       "      <td>Right Corner 3</td>\n",
       "      <td>Right Side(R)</td>\n",
       "      <td>24+ ft.</td>\n",
       "      <td>23</td>\n",
       "      <td>232</td>\n",
       "      <td>1</td>\n",
       "      <td>1</td>\n",
       "      <td>0</td>\n",
       "      <td>20191103</td>\n",
       "      <td>SAS</td>\n",
       "      <td>LAL</td>\n",
       "    </tr>\n",
       "    <tr>\n",
       "      <th>181932</th>\n",
       "      <td>181932</td>\n",
       "      <td>0021900088</td>\n",
       "      <td>620</td>\n",
       "      <td>2544</td>\n",
       "      <td>LeBron James</td>\n",
       "      <td>1610612747</td>\n",
       "      <td>Los Angeles Lakers</td>\n",
       "      <td>4</td>\n",
       "      <td>4</td>\n",
       "      <td>21</td>\n",
       "      <td>Missed Shot</td>\n",
       "      <td>Pullup Jump shot</td>\n",
       "      <td>3PT Field Goal</td>\n",
       "      <td>Above the Break 3</td>\n",
       "      <td>Left Side Center(LC)</td>\n",
       "      <td>24+ ft.</td>\n",
       "      <td>25</td>\n",
       "      <td>-185</td>\n",
       "      <td>181</td>\n",
       "      <td>1</td>\n",
       "      <td>0</td>\n",
       "      <td>20191103</td>\n",
       "      <td>SAS</td>\n",
       "      <td>LAL</td>\n",
       "    </tr>\n",
       "    <tr>\n",
       "      <th>181933</th>\n",
       "      <td>181933</td>\n",
       "      <td>0021900088</td>\n",
       "      <td>639</td>\n",
       "      <td>2544</td>\n",
       "      <td>LeBron James</td>\n",
       "      <td>1610612747</td>\n",
       "      <td>Los Angeles Lakers</td>\n",
       "      <td>4</td>\n",
       "      <td>2</td>\n",
       "      <td>45</td>\n",
       "      <td>Missed Shot</td>\n",
       "      <td>Jump Shot</td>\n",
       "      <td>2PT Field Goal</td>\n",
       "      <td>Mid-Range</td>\n",
       "      <td>Left Side(L)</td>\n",
       "      <td>16-24 ft.</td>\n",
       "      <td>19</td>\n",
       "      <td>-190</td>\n",
       "      <td>-13</td>\n",
       "      <td>1</td>\n",
       "      <td>0</td>\n",
       "      <td>20191103</td>\n",
       "      <td>SAS</td>\n",
       "      <td>LAL</td>\n",
       "    </tr>\n",
       "    <tr>\n",
       "      <th>181934</th>\n",
       "      <td>181934</td>\n",
       "      <td>0021900088</td>\n",
       "      <td>661</td>\n",
       "      <td>2544</td>\n",
       "      <td>LeBron James</td>\n",
       "      <td>1610612747</td>\n",
       "      <td>Los Angeles Lakers</td>\n",
       "      <td>4</td>\n",
       "      <td>0</td>\n",
       "      <td>41</td>\n",
       "      <td>Missed Shot</td>\n",
       "      <td>Step Back Jump shot</td>\n",
       "      <td>3PT Field Goal</td>\n",
       "      <td>Above the Break 3</td>\n",
       "      <td>Left Side Center(LC)</td>\n",
       "      <td>24+ ft.</td>\n",
       "      <td>26</td>\n",
       "      <td>-201</td>\n",
       "      <td>178</td>\n",
       "      <td>1</td>\n",
       "      <td>0</td>\n",
       "      <td>20191103</td>\n",
       "      <td>SAS</td>\n",
       "      <td>LAL</td>\n",
       "    </tr>\n",
       "  </tbody>\n",
       "</table>\n",
       "</div>"
      ],
      "text/plain": [
       "            id     GAME_ID  GAME_EVENT_ID  PLAYER_ID   PLAYER_NAME  \\\n",
       "181930  181930  0021900088            538       2544  LeBron James   \n",
       "181931  181931  0021900088            553       2544  LeBron James   \n",
       "181932  181932  0021900088            620       2544  LeBron James   \n",
       "181933  181933  0021900088            639       2544  LeBron James   \n",
       "181934  181934  0021900088            661       2544  LeBron James   \n",
       "\n",
       "           TEAM_ID           TEAM_NAME  PERIOD  MINUTES_REMAINING  \\\n",
       "181930  1610612747  Los Angeles Lakers       4                  9   \n",
       "181931  1610612747  Los Angeles Lakers       4                  8   \n",
       "181932  1610612747  Los Angeles Lakers       4                  4   \n",
       "181933  1610612747  Los Angeles Lakers       4                  2   \n",
       "181934  1610612747  Los Angeles Lakers       4                  0   \n",
       "\n",
       "        SECONDS_REMAINING   EVENT_TYPE          ACTION_TYPE       SHOT_TYPE  \\\n",
       "181930                  3  Missed Shot            Jump Shot  2PT Field Goal   \n",
       "181931                 14  Missed Shot            Jump Shot  3PT Field Goal   \n",
       "181932                 21  Missed Shot     Pullup Jump shot  3PT Field Goal   \n",
       "181933                 45  Missed Shot            Jump Shot  2PT Field Goal   \n",
       "181934                 41  Missed Shot  Step Back Jump shot  3PT Field Goal   \n",
       "\n",
       "          SHOT_ZONE_BASIC        SHOT_ZONE_AREA SHOT_ZONE_RANGE  \\\n",
       "181930          Mid-Range          Left Side(L)       16-24 ft.   \n",
       "181931     Right Corner 3         Right Side(R)         24+ ft.   \n",
       "181932  Above the Break 3  Left Side Center(LC)         24+ ft.   \n",
       "181933          Mid-Range          Left Side(L)       16-24 ft.   \n",
       "181934  Above the Break 3  Left Side Center(LC)         24+ ft.   \n",
       "\n",
       "        SHOT_DISTANCE  LOC_X  LOC_Y  SHOT_ATTEMPTED_FLAG  SHOT_MADE_FLAG  \\\n",
       "181930             18   -168     69                    1               0   \n",
       "181931             23    232      1                    1               0   \n",
       "181932             25   -185    181                    1               0   \n",
       "181933             19   -190    -13                    1               0   \n",
       "181934             26   -201    178                    1               0   \n",
       "\n",
       "       GAME_DATE  HTM  VTM  \n",
       "181930  20191103  SAS  LAL  \n",
       "181931  20191103  SAS  LAL  \n",
       "181932  20191103  SAS  LAL  \n",
       "181933  20191103  SAS  LAL  \n",
       "181934  20191103  SAS  LAL  "
      ]
     },
     "execution_count": 2,
     "metadata": {},
     "output_type": "execute_result"
    }
   ],
   "source": [
    "conn = sqlite3.connect('shotcharts.db')\n",
    "\n",
    "df = pd.read_sql_query('SELECT * FROM shotcharts', conn)\n",
    "df.tail()"
   ]
  },
  {
   "cell_type": "code",
   "execution_count": 4,
   "metadata": {},
   "outputs": [
    {
     "name": "stdout",
     "output_type": "stream",
     "text": [
      "<class 'pandas.core.frame.DataFrame'>\n",
      "RangeIndex: 181935 entries, 0 to 181934\n",
      "Data columns (total 24 columns):\n",
      "id                     181935 non-null int64\n",
      "GAME_ID                181935 non-null object\n",
      "GAME_EVENT_ID          181935 non-null int64\n",
      "PLAYER_ID              181935 non-null int64\n",
      "PLAYER_NAME            181935 non-null object\n",
      "TEAM_ID                181935 non-null int64\n",
      "TEAM_NAME              181935 non-null object\n",
      "PERIOD                 181935 non-null int64\n",
      "MINUTES_REMAINING      181935 non-null int64\n",
      "SECONDS_REMAINING      181935 non-null int64\n",
      "EVENT_TYPE             181935 non-null object\n",
      "ACTION_TYPE            181935 non-null object\n",
      "SHOT_TYPE              181935 non-null object\n",
      "SHOT_ZONE_BASIC        181935 non-null object\n",
      "SHOT_ZONE_AREA         181935 non-null object\n",
      "SHOT_ZONE_RANGE        181935 non-null object\n",
      "SHOT_DISTANCE          181935 non-null int64\n",
      "LOC_X                  181935 non-null int64\n",
      "LOC_Y                  181935 non-null int64\n",
      "SHOT_ATTEMPTED_FLAG    181935 non-null int64\n",
      "SHOT_MADE_FLAG         181935 non-null int64\n",
      "GAME_DATE              181935 non-null object\n",
      "HTM                    181935 non-null object\n",
      "VTM                    181935 non-null object\n",
      "dtypes: int64(12), object(12)\n",
      "memory usage: 33.3+ MB\n"
     ]
    }
   ],
   "source": [
    "df.info()"
   ]
  },
  {
   "cell_type": "code",
   "execution_count": 5,
   "metadata": {},
   "outputs": [
    {
     "data": {
      "text/plain": [
       "False"
      ]
     },
     "execution_count": 5,
     "metadata": {},
     "output_type": "execute_result"
    }
   ],
   "source": [
    "df.isnull().values.any()"
   ]
  },
  {
   "cell_type": "code",
   "execution_count": 7,
   "metadata": {},
   "outputs": [],
   "source": [
    "df.insert(len(df.columns), 'TIME_REMAINING',\n",
    "         Series(df.MINUTES_REMAINING*60 + df.SECONDS_REMAINING))\n",
    "# print(df.info())"
   ]
  },
  {
   "cell_type": "code",
   "execution_count": 8,
   "metadata": {},
   "outputs": [],
   "source": [
    "col = ['TEAM_ID', 'TEAM_NAME', 'GAME_EVENT_ID', 'HTM',\n",
    "       'VTM', 'GAME_DATE', 'GAME_ID', 'id',\n",
    "      'EVENT_TYPE', 'TIME_REMAINING', 'PERIOD',\n",
    "       'MINUTES_REMAINING', 'SECONDS_REMAINING']\n",
    "df.drop(col, 1, inplace=True)"
   ]
  },
  {
   "cell_type": "code",
   "execution_count": 9,
   "metadata": {},
   "outputs": [],
   "source": [
    "df_name = df[['PLAYER_NAME', 'PLAYER_ID']]"
   ]
  },
  {
   "cell_type": "code",
   "execution_count": 10,
   "metadata": {},
   "outputs": [],
   "source": [
    "s1 = pd.Series(df_name['PLAYER_NAME'].unique())\n",
    "s2 = pd.Series(df_name['PLAYER_ID'].unique())"
   ]
  },
  {
   "cell_type": "code",
   "execution_count": 11,
   "metadata": {},
   "outputs": [
    {
     "name": "stdout",
     "output_type": "stream",
     "text": [
      "                        0        1\n",
      "0          Victor Oladipo   203506\n",
      "1      Karl-Anthony Towns  1626157\n",
      "2            Nikola Jokic   203999\n",
      "3            Kyrie Irving   202681\n",
      "4              Al Horford   201143\n",
      "5          Damian Lillard   203081\n",
      "6             Rudy Gobert   203497\n",
      "7          Draymond Green   203110\n",
      "8           Kawhi Leonard   202695\n",
      "9             Paul George   202331\n",
      "10           Jimmy Butler   202710\n",
      "11            Joel Embiid   203954\n",
      "12             Chris Paul   101108\n",
      "13      Russell Westbrook   201566\n",
      "14  Giannis Antetokounmpo   203507\n",
      "15          Anthony Davis   203076\n",
      "16           James Harden   201935\n",
      "17          Stephen Curry   201939\n",
      "18           Kevin Durant   201142\n",
      "19           LeBron James     2544\n"
     ]
    }
   ],
   "source": [
    "df_player_id = pd.concat([s1, s2], axis=1)\n",
    "print(df_player_id)"
   ]
  },
  {
   "cell_type": "code",
   "execution_count": 12,
   "metadata": {},
   "outputs": [],
   "source": [
    "oladip_df = df.loc[df['PLAYER_ID']==203506]\n",
    "towns_df = df.loc[df['PLAYER_ID']==1626157]\n",
    "jokic_df = df.loc[df['PLAYER_ID']==203999]\n",
    "irving_df = df.loc[df['PLAYER_ID']==202681]\n",
    "horford_df = df.loc[df['PLAYER_ID']==201143]\n",
    "lillard_df = df.loc[df['PLAYER_ID']==203081]\n",
    "gobert_df = df.loc[df['PLAYER_ID']==203497]\n",
    "green_df = df.loc[df['PLAYER_ID']==203110]\n",
    "leonard_df = df.loc[df['PLAYER_ID']==202695]\n",
    "george_df = df.loc[df['PLAYER_ID']==202331]\n",
    "butler_df = df.loc[df['PLAYER_ID']==202710]\n",
    "embiid_df = df.loc[df['PLAYER_ID']==203954]\n",
    "paul_df = df.loc[df['PLAYER_ID']==101108]\n",
    "westbrook_df = df.loc[df['PLAYER_ID']==201566]\n",
    "antetokounmpo_df = df.loc[df['PLAYER_ID']==203507]\n",
    "davis_df = df.loc[df['PLAYER_ID']==203076]\n",
    "harden_df = df.loc[df['PLAYER_ID']==201935]\n",
    "curry_df = df.loc[df['PLAYER_ID']==201939]\n",
    "durant_df = df.loc[df['PLAYER_ID']==201142]\n",
    "james_df = df.loc[df['PLAYER_ID']==2544]"
   ]
  },
  {
   "cell_type": "code",
   "execution_count": 13,
   "metadata": {},
   "outputs": [
    {
     "name": "stderr",
     "output_type": "stream",
     "text": [
      "C:\\Users\\ktung\\Anaconda3\\envs\\PythonData\\lib\\site-packages\\pandas\\core\\frame.py:4097: SettingWithCopyWarning: \n",
      "A value is trying to be set on a copy of a slice from a DataFrame\n",
      "\n",
      "See the caveats in the documentation: http://pandas.pydata.org/pandas-docs/stable/user_guide/indexing.html#returning-a-view-versus-a-copy\n",
      "  errors=errors,\n"
     ]
    }
   ],
   "source": [
    "# Filter and create inital df for the models\n",
    "col_id= ['PLAYER_ID', 'PLAYER_NAME']\n",
    "oladip_df.drop(col_id, axis=1, inplace=True)\n",
    "towns_df.drop(col_id, axis=1, inplace=True)\n",
    "jokic_df.drop(col_id, axis=1, inplace=True)\n",
    "irving_df.drop(col_id, axis=1, inplace=True)\n",
    "horford_df.drop(col_id, axis=1, inplace=True)\n",
    "lillard_df.drop(col_id, axis=1, inplace=True)\n",
    "gobert_df.drop(col_id, axis=1, inplace=True)\n",
    "green_df.drop(col_id, axis=1, inplace=True)\n",
    "leonard_df.drop(col_id, axis=1, inplace=True)\n",
    "george_df.drop(col_id, axis=1, inplace=True)\n",
    "butler_df.drop(col_id, axis=1, inplace=True)\n",
    "embiid_df.drop(col_id, axis=1, inplace=True)\n",
    "paul_df.drop(col_id, axis=1, inplace=True)\n",
    "westbrook_df.drop(col_id, axis=1, inplace=True)\n",
    "antetokounmpo_df.drop(col_id, axis=1, inplace=True)\n",
    "davis_df.drop(col_id, axis=1, inplace=True)\n",
    "harden_df.drop(col_id, axis=1, inplace=True)\n",
    "curry_df.drop(col_id, axis=1, inplace=True)\n",
    "durant_df.drop(col_id, axis=1, inplace=True)\n",
    "james_df.drop(col_id, axis=1, inplace=True)"
   ]
  },
  {
   "cell_type": "code",
   "execution_count": 14,
   "metadata": {},
   "outputs": [],
   "source": [
    "# Create pickle file to share inital df\n",
    "# oladip_df.to_pickle(\"DataFrame/oladip_df\")\n",
    "# towns_df.to_pickle(\"DataFrame/towns_df\")\n",
    "# jokic_df.to_pickle(\"DataFrame/jokic_df\")\n",
    "# irving_df.to_pickle(\"DataFrame/irving_df\")\n",
    "# horford_df.to_pickle(\"DataFrame/horford_df\")\n",
    "# lillard_df.to_pickle(\"DataFrame/lillard_df\")\n",
    "# gobert_df.to_pickle(\"DataFrame/gobert_df\")\n",
    "# green_df.to_pickle(\"DataFrame/green_df\")\n",
    "# leonard_df.to_pickle(\"DataFrame/leonard_df\")\n",
    "# george_df.to_pickle(\"DataFrame/george_df\")\n",
    "# butler_df.to_pickle(\"DataFrame/butler_df\")\n",
    "# embiid_df.to_pickle(\"DataFrame/embiid_df\")\n",
    "# paul_df.to_pickle(\"DataFrame/paul_df\")\n",
    "# westbrook_df.to_pickle(\"DataFrame/westbrook_df\")\n",
    "# antetokounmpo_df.to_pickle(\"DataFrame/antetokounmpo_df\")\n",
    "# davis_df.to_pickle(\"DataFrame/davis_df\")\n",
    "# harden_df.to_pickle(\"DataFrame/harden_df\")\n",
    "# curry_df.to_pickle(\"DataFrame/curry_df\")\n",
    "# durant_df.to_pickle(\"DataFrame/durant_df\")\n",
    "# james_df.to_pickle(\"DataFrame/james_df\")"
   ]
  },
  {
   "cell_type": "code",
   "execution_count": 15,
   "metadata": {},
   "outputs": [],
   "source": [
    "# oladip_df.columns"
   ]
  },
  {
   "cell_type": "markdown",
   "metadata": {},
   "source": [
    "1. train_test_split to split data into 80/20\n",
    "\n",
    "2. cross_val_score to estimate the score on new data\n",
    "\n",
    "3. preprocessing for standard scaler to transform data so that mean value is 0 and std is 1\n",
    "\n",
    "4. Random_Forest_Classifier: A random forest is a meta estimator that fits a number of decision tree classifiers on various sub-samples of the dataset and uses averaging to improve the predictive accuracy and control over-fitting.\n",
    "\n",
    "5. Decision Tree Classifier: Decision tree builds classification or regression models in the form of a tree structure. It breaks down a dataset into smaller and smaller subsets while at the same time an associated decision tree is incrementally developed.\n",
    "\n",
    "6. LinearSVC: Support Vector Classifier) is to fit to the data you provide, returning a \"best fit\" hyperplane that divides, or categorizes, your data.\n",
    "\n",
    "7. Logistic Regression: a statistical method for analyzing a dataset in which there are one or more independent variables that determine an outcome. \n",
    "\n",
    "8. Voting Classifier:  a wrapper for set of different ones that are trained and valuated in parallel in order to exploit the different peculiarities of each algorithm\n",
    "\n",
    "9. Confusion matrix and accuracy score to see precision and recall\n",
    "\n",
    "10. SelectFromModel: is to find features and transform and retrain with just the features selected\n",
    "\n",
    "11. Joblib to save the model"
   ]
  },
  {
   "cell_type": "code",
   "execution_count": 16,
   "metadata": {},
   "outputs": [],
   "source": [
    "from sklearn.model_selection import train_test_split, cross_val_score\n",
    "from sklearn.preprocessing import StandardScaler\n",
    "from sklearn.ensemble import RandomForestClassifier\n",
    "from sklearn.tree import DecisionTreeClassifier\n",
    "from sklearn.svm import LinearSVC\n",
    "from sklearn.linear_model import LogisticRegression\n",
    "from sklearn.ensemble import VotingClassifier\n",
    "from sklearn.metrics import confusion_matrix, accuracy_score\n",
    "from sklearn.feature_selection import SelectFromModel\n"
   ]
  },
  {
   "cell_type": "code",
   "execution_count": 17,
   "metadata": {},
   "outputs": [
    {
     "name": "stderr",
     "output_type": "stream",
     "text": [
      "C:\\Users\\ktung\\Anaconda3\\envs\\PythonData\\lib\\site-packages\\sklearn\\externals\\joblib\\__init__.py:15: DeprecationWarning: sklearn.externals.joblib is deprecated in 0.21 and will be removed in 0.23. Please import this functionality directly from joblib, which can be installed with: pip install joblib. If this warning is raised when loading pickled models, you may need to re-serialize those models with scikit-learn 0.21+.\n",
      "  warnings.warn(msg, category=DeprecationWarning)\n"
     ]
    }
   ],
   "source": [
    "from sklearn.externals import joblib"
   ]
  },
  {
   "cell_type": "code",
   "execution_count": 18,
   "metadata": {},
   "outputs": [],
   "source": [
    "from sklearn.feature_extraction.text import CountVectorizer\n",
    "\n",
    "\n",
    "def plot_coefficients(classifier, feature_names, top_features=10):\n",
    " coef = classifier.coef_.ravel()\n",
    " top_positive_coefficients = np.argsort(coef)[-top_features:]\n",
    " top_negative_coefficients = np.argsort(coef)[:top_features]\n",
    " top_coefficients = np.hstack([top_negative_coefficients, top_positive_coefficients])\n",
    " # create plot\n",
    " plt.figure(figsize=(15, 5))\n",
    " colors = ['red' if c < 0 else 'blue' for c in coef[top_coefficients]]\n",
    " plt.bar(np.arange(2 * top_features), coef[top_coefficients], color=colors)\n",
    " feature_names = np.array(feature_names)\n",
    " plt.xticks(np.arange(1, 1 + 2 * top_features), feature_names[top_coefficients], rotation=60, ha='right')\n",
    " plt.title('Al Hartford Features')\n",
    " plt.savefig(\"features/'AlHartford'\")\n",
    " plt.show()\n"
   ]
  },
  {
   "cell_type": "code",
   "execution_count": 19,
   "metadata": {},
   "outputs": [],
   "source": [
    "# oladip_df.to_pickle(\"DataFrame/oladip_df\")\n",
    "# towns_df.to_pickle(\"DataFrame/towns_df\")\n",
    "# jokic_df.to_pickle(\"DataFrame/jokic_df\")\n",
    "# irving_df.to_pickle(\"DataFrame/irving_df\")\n",
    "# horford_df.to_pickle(\"DataFrame/horford_df\")\n",
    "# lillard_df.to_pickle(\"DataFrame/lillard_df\")\n",
    "# gobert_df.to_pickle(\"DataFrame/gobert_df\")\n",
    "# green_df.to_pickle(\"DataFrame/green_df\")\n",
    "# leonard_df.to_pickle(\"DataFrame/leonard_df\")\n",
    "# george_df.to_pickle(\"DataFrame/george_df\")\n",
    "# butler_df.to_pickle(\"DataFrame/butler_df\")\n",
    "# embiid_df.to_pickle(\"DataFrame/embiid_df\")\n",
    "# paul_df.to_pickle(\"DataFrame/paul_df\")\n",
    "# westbrook_df.to_pickle(\"DataFrame/westbrook_df\")\n",
    "# antetokounmpo_df.to_pickle(\"DataFrame/antetokounmpo_df\")\n",
    "# davis_df.to_pickle(\"DataFrame/davis_df\")\n",
    "# harden_df.to_pickle(\"DataFrame/harden_df\")\n",
    "# curry_df.to_pickle(\"DataFrame/curry_df\")\n",
    "# durant_df.to_pickle(\"DataFrame/durant_df\")\n",
    "# james_df.to_pickle(\"DataFrame/james_df\")"
   ]
  },
  {
   "cell_type": "code",
   "execution_count": 20,
   "metadata": {},
   "outputs": [],
   "source": [
    "y = np.array(james_df['SHOT_MADE_FLAG']).astype(int)\n",
    "X = james_df.drop('SHOT_MADE_FLAG', 1)\n",
    "\n"
   ]
  },
  {
   "cell_type": "code",
   "execution_count": 21,
   "metadata": {},
   "outputs": [],
   "source": [
    "# Print stat for David\n",
    "\n",
    "X_loc = X[['LOC_X', 'LOC_Y']].copy()\n",
    "\n",
    "df = (X_loc.mean(axis=0), X_loc.std(axis=0))\n",
    "df = pd.DataFrame(list(df))\n",
    "df = df.rename(index={0: 'X_mean',\n",
    "               1: 'X_std'})\n",
    "LeBronJames_loc_stat = df.rename(columns={0: 'Loc_X',\n",
    "                            1: 'Loc_y'})\n",
    "# print(NikolaJokic_loc_stat)\n",
    "LeBronJames_loc_stat.to_pickle(\"player_loc_stat/LeBronJames_loc_stat\")"
   ]
  },
  {
   "cell_type": "code",
   "execution_count": 22,
   "metadata": {},
   "outputs": [],
   "source": [
    "#                         0        1\n",
    "# 0          VictorOladipo_loc_stat   203506\n",
    "# 1      Karl_AnthonyTowns_loc_stat   1626157\n",
    "# 2            NikolaJokic_loc_stat    203999\n",
    "# 3            KyrieIrving_loc_stat    202681\n",
    "# 4              AlHorford_loc_stat    201143\n",
    "# 5          DamianLillard_loc_stat    203081\n",
    "# 6             RudyGobert_loc_stat    203497\n",
    "# 7          DraymondGreen_loc_stat    203110\n",
    "# 8           KawhiLeonard_loc_stat    202695\n",
    "# 9             PaulGeorge_loc_stat    202331\n",
    "# 10           JimmyButler_loc_stat    202710\n",
    "# 11            JoelEmbiid_loc_stat    203954\n",
    "# 12             ChrisPaul_loc_stat    101108\n",
    "# 13      RussellWestbrook_loc_stat    201566\n",
    "# 14  GiannisAntetokounmpo_loc_stat    203507\n",
    "# 15          AnthonyDavis_loc_stat    203076\n",
    "# 16           JamesHarden_loc_stat    201935\n",
    "# 17          StephenCurry_loc_stat    201939\n",
    "# 18           KevinDurant_loc_stat    201142\n",
    "# 19           LeBronJames_loc_stat      2544"
   ]
  },
  {
   "cell_type": "code",
   "execution_count": 23,
   "metadata": {},
   "outputs": [],
   "source": [
    "# Splitting data\n",
    "X_train, X_test, y_train, y_test = train_test_split(X, y, test_size = 0.2, random_state=42)"
   ]
  },
  {
   "cell_type": "code",
   "execution_count": 24,
   "metadata": {},
   "outputs": [
    {
     "name": "stdout",
     "output_type": "stream",
     "text": [
      "[-1.16710776e-17 -6.24967383e-17] [1. 1.]\n"
     ]
    },
    {
     "name": "stderr",
     "output_type": "stream",
     "text": [
      "C:\\Users\\ktung\\Anaconda3\\envs\\PythonData\\lib\\site-packages\\pandas\\core\\indexing.py:362: SettingWithCopyWarning: \n",
      "A value is trying to be set on a copy of a slice from a DataFrame.\n",
      "Try using .loc[row_indexer,col_indexer] = value instead\n",
      "\n",
      "See the caveats in the documentation: http://pandas.pydata.org/pandas-docs/stable/user_guide/indexing.html#returning-a-view-versus-a-copy\n",
      "  self.obj[key] = _infer_fill_value(value)\n",
      "C:\\Users\\ktung\\Anaconda3\\envs\\PythonData\\lib\\site-packages\\pandas\\core\\indexing.py:480: SettingWithCopyWarning: \n",
      "A value is trying to be set on a copy of a slice from a DataFrame.\n",
      "Try using .loc[row_indexer,col_indexer] = value instead\n",
      "\n",
      "See the caveats in the documentation: http://pandas.pydata.org/pandas-docs/stable/user_guide/indexing.html#returning-a-view-versus-a-copy\n",
      "  self.obj[item] = s\n"
     ]
    }
   ],
   "source": [
    "\n",
    "A = X_train[['LOC_X', 'LOC_Y']].copy()\n",
    "\n",
    "scaler = StandardScaler().fit(A)\n",
    "A_st = scaler.transform(A)\n",
    "\n",
    "print(A_st.mean(axis=0), A_st.std(axis=0))\n",
    "\n",
    "X_train.loc[:, 'angle'] = A_st[:,0]/A_st[:,1]\n"
   ]
  },
  {
   "cell_type": "code",
   "execution_count": 25,
   "metadata": {},
   "outputs": [
    {
     "name": "stdout",
     "output_type": "stream",
     "text": [
      "[-0.00429523  0.00193007] [1.00455127 1.00303642]\n"
     ]
    },
    {
     "name": "stderr",
     "output_type": "stream",
     "text": [
      "C:\\Users\\ktung\\Anaconda3\\envs\\PythonData\\lib\\site-packages\\pandas\\core\\indexing.py:362: SettingWithCopyWarning: \n",
      "A value is trying to be set on a copy of a slice from a DataFrame.\n",
      "Try using .loc[row_indexer,col_indexer] = value instead\n",
      "\n",
      "See the caveats in the documentation: http://pandas.pydata.org/pandas-docs/stable/user_guide/indexing.html#returning-a-view-versus-a-copy\n",
      "  self.obj[key] = _infer_fill_value(value)\n",
      "C:\\Users\\ktung\\Anaconda3\\envs\\PythonData\\lib\\site-packages\\pandas\\core\\indexing.py:480: SettingWithCopyWarning: \n",
      "A value is trying to be set on a copy of a slice from a DataFrame.\n",
      "Try using .loc[row_indexer,col_indexer] = value instead\n",
      "\n",
      "See the caveats in the documentation: http://pandas.pydata.org/pandas-docs/stable/user_guide/indexing.html#returning-a-view-versus-a-copy\n",
      "  self.obj[item] = s\n"
     ]
    }
   ],
   "source": [
    "B = X_test[['LOC_X', 'LOC_Y']].copy()\n",
    "B_st = scaler.transform(B)\n",
    "X_test.loc[:,'angle'] = B_st[:,0]/B_st[:,1]\n",
    "print(B_st.mean(axis=0), B_st.std(axis=0))"
   ]
  },
  {
   "cell_type": "code",
   "execution_count": 26,
   "metadata": {},
   "outputs": [],
   "source": [
    "X_train = X_train.drop('LOC_X', 1)\n",
    "X_train = X_train.drop('LOC_Y', 1)"
   ]
  },
  {
   "cell_type": "code",
   "execution_count": 27,
   "metadata": {},
   "outputs": [],
   "source": [
    "X_test = X_test.drop('LOC_X', 1)\n",
    "X_test = X_test.drop('LOC_Y', 1)"
   ]
  },
  {
   "cell_type": "code",
   "execution_count": 28,
   "metadata": {},
   "outputs": [],
   "source": [
    "# X_test.info()\n",
    "# X_test.isnull().values.any()"
   ]
  },
  {
   "cell_type": "code",
   "execution_count": 29,
   "metadata": {},
   "outputs": [
    {
     "name": "stdout",
     "output_type": "stream",
     "text": [
      "['ACTION_TYPE_Driving Reverse Dunk Shot' 'ACTION_TYPE_Follow Up Dunk Shot'\n",
      " 'ACTION_TYPE_Hook Bank Shot' 'ACTION_TYPE_Putback Reverse Dunk Shot'\n",
      " 'ACTION_TYPE_Running Bank Hook Shot'\n",
      " 'ACTION_TYPE_Running Reverse Dunk Shot'\n",
      " 'ACTION_TYPE_Running Reverse Layup Shot'\n",
      " 'ACTION_TYPE_Step Back Bank Jump Shot' 'ACTION_TYPE_Tip Dunk Shot']\n",
      "[]\n"
     ]
    }
   ],
   "source": [
    "# Convert columns to numerical values by using pd.get_dummies()\n",
    "X_train = pd.get_dummies(X_train)\n",
    "\n",
    "X_test = pd.get_dummies(X_test)\n",
    "\n",
    "not_in_test = np.setdiff1d(X_train.columns, X_test.columns)\n",
    "print(not_in_test)\n",
    "\n",
    "not_in_train = np.setdiff1d(X_test.columns, X_train.columns)\n",
    "print(not_in_train)\n",
    "\n",
    "for c in not_in_test:\n",
    "    X_test[c] = 0\n",
    "    \n",
    "X_test = X_test[X_train.columns]"
   ]
  },
  {
   "cell_type": "code",
   "execution_count": 30,
   "metadata": {},
   "outputs": [
    {
     "data": {
      "text/plain": [
       "CountVectorizer(analyzer='word', binary=False, decode_error='strict',\n",
       "                dtype=<class 'numpy.int64'>, encoding='utf-8', input='content',\n",
       "                lowercase=True, max_df=1.0, max_features=None, min_df=1,\n",
       "                ngram_range=(1, 1), preprocessor=None, stop_words=None,\n",
       "                strip_accents=None, token_pattern='(?u)\\\\b\\\\w\\\\w+\\\\b',\n",
       "                tokenizer=None, vocabulary=None)"
      ]
     },
     "execution_count": 30,
     "metadata": {},
     "output_type": "execute_result"
    }
   ],
   "source": [
    "cv = CountVectorizer()\n",
    "cv.fit(X_train)\n",
    "# print(len(cv.vocabulary_))\n",
    "# print(cv.get_feature_names())"
   ]
  },
  {
   "cell_type": "code",
   "execution_count": 33,
   "metadata": {},
   "outputs": [],
   "source": [
    "# oladip_df_X = pd.DataFrame(X_train.columns).to_pickle(\"X_train_columns/oladip_df_X\")\n",
    "# towns_df_X = pd.DataFrame(X_train.columns).to_pickle(\"X_train_columns/towns_df_X\")\n",
    "# jokic_df_X = pd.DataFrame(X_train.columns).to_pickle(\"X_train_columns/jokic_df_X\")\n",
    "# irving_df_X = pd.DataFrame(X_train.columns).to_pickle(\"X_train_columns/irving_df_X\")\n",
    "# horford_df_X = pd.DataFrame(X_train.columns).to_pickle(\"X_train_columns/horford_df\")\n",
    "# lillard_df_X = pd.DataFrame(X_train.columns).to_pickle(\"X_train_columns/lillard_df_X\")\n",
    "# gobert_df_X = pd.DataFrame(X_train.columns).to_pickle(\"X_train_columns/gobert_df_X\")\n",
    "# green_df_X = pd.DataFrame(X_train.columns).to_pickle(\"X_train_columns/green_df_X\")\n",
    "# leonard_df_X = pd.DataFrame(X_train.columns).to_pickle(\"X_train_columns/leonard_df_X\")\n",
    "# george_df_X = pd.DataFrame(X_train.columns).to_pickle(\"X_train_columns/george_df_X\")\n",
    "# butler_df_X = pd.DataFrame(X_train.columns).to_pickle(\"X_train_columns/butler_df_X\")\n",
    "# embiid_df_X = pd.DataFrame(X_train.columns).to_pickle(\"X_train_columns/embiid_df\")\n",
    "# paul_df_X = pd.DataFrame(X_train.columns).to_pickle(\"X_train_columns/paul_df\")\n",
    "# westbrook_df_X = pd.DataFrame(X_train.columns).to_pickle(\"X_train_columns/westbrook_df\")\n",
    "# antetokounmpo_df_X = pd.DataFrame(X_train.columns).to_pickle(\"X_train_columns/antetokounmpo_df_X\")\n",
    "# davis_df_X = pd.DataFrame(X_train.columns).to_pickle(\"X_train_columns/davis_df_X\")\n",
    "# harden_df_X = pd.DataFrame(X_train.columns).to_pickle(\"X_train_columns/harden_df_X\")\n",
    "# curry_df_X = pd.DataFrame(X_train.columns).to_pickle(\"X_train_columns/curry_df_X\")\n",
    "# durant_df_X = pd.DataFrame(X_train.columns).to_pickle(\"X_train_columns/durant_df_X\")\n",
    "# james_df_X = pd.DataFrame(X_train.columns).to_pickle(\"X_train_columns/james_df_X\")"
   ]
  },
  {
   "cell_type": "code",
   "execution_count": 31,
   "metadata": {},
   "outputs": [],
   "source": [
    "log_clf = LogisticRegression()\n",
    "svm_clf = LinearSVC(random_state=42)\n",
    "decision_tree_clf = DecisionTreeClassifier(random_state=42)\n",
    "random_forest_clf = RandomForestClassifier(n_estimators=1000, random_state=42)"
   ]
  },
  {
   "cell_type": "code",
   "execution_count": 32,
   "metadata": {},
   "outputs": [],
   "source": [
    "named_estimators = [\n",
    "    ('Log_clf', log_clf),\n",
    "    ('svm_clf', svm_clf),\n",
    "    ('decision_tree_clf', decision_tree_clf),\n",
    "    ('Random_forest_clf', random_forest_clf),\n",
    "]"
   ]
  },
  {
   "cell_type": "code",
   "execution_count": 48,
   "metadata": {},
   "outputs": [
    {
     "name": "stdout",
     "output_type": "stream",
     "text": [
      "Training the LogisticRegression(C=1.0, class_weight=None, dual=False, fit_intercept=True,\n",
      "                   intercept_scaling=1, l1_ratio=None, max_iter=100,\n",
      "                   multi_class='warn', n_jobs=None, penalty='l2',\n",
      "                   random_state=None, solver='warn', tol=0.0001, verbose=0,\n",
      "                   warm_start=False)\n"
     ]
    },
    {
     "name": "stderr",
     "output_type": "stream",
     "text": [
      "C:\\Users\\ktung\\Anaconda3\\envs\\PythonData\\lib\\site-packages\\sklearn\\linear_model\\logistic.py:432: FutureWarning: Default solver will be changed to 'lbfgs' in 0.22. Specify a solver to silence this warning.\n",
      "  FutureWarning)\n"
     ]
    },
    {
     "name": "stdout",
     "output_type": "stream",
     "text": [
      "Training the LinearSVC(C=1.0, class_weight=None, dual=True, fit_intercept=True,\n",
      "          intercept_scaling=1, loss='squared_hinge', max_iter=1000,\n",
      "          multi_class='ovr', penalty='l2', random_state=42, tol=0.0001,\n",
      "          verbose=0)\n"
     ]
    },
    {
     "name": "stderr",
     "output_type": "stream",
     "text": [
      "C:\\Users\\ktung\\Anaconda3\\envs\\PythonData\\lib\\site-packages\\sklearn\\svm\\base.py:929: ConvergenceWarning: Liblinear failed to converge, increase the number of iterations.\n",
      "  \"the number of iterations.\", ConvergenceWarning)\n"
     ]
    },
    {
     "name": "stdout",
     "output_type": "stream",
     "text": [
      "Training the DecisionTreeClassifier(class_weight=None, criterion='gini', max_depth=None,\n",
      "                       max_features=None, max_leaf_nodes=None,\n",
      "                       min_impurity_decrease=0.0, min_impurity_split=None,\n",
      "                       min_samples_leaf=1, min_samples_split=2,\n",
      "                       min_weight_fraction_leaf=0.0, presort=False,\n",
      "                       random_state=42, splitter='best')\n",
      "Training the RandomForestClassifier(bootstrap=True, class_weight=None, criterion='gini',\n",
      "                       max_depth=None, max_features='auto', max_leaf_nodes=None,\n",
      "                       min_impurity_decrease=0.0, min_impurity_split=None,\n",
      "                       min_samples_leaf=1, min_samples_split=2,\n",
      "                       min_weight_fraction_leaf=0.0, n_estimators=1000,\n",
      "                       n_jobs=None, oob_score=False, random_state=42, verbose=0,\n",
      "                       warm_start=False)\n"
     ]
    }
   ],
   "source": [
    "estimators = [log_clf, svm_clf, decision_tree_clf, random_forest_clf]\n",
    "for estimator in estimators:\n",
    "    print('Training the', estimator)\n",
    "    estimator.fit(X_train, y_train)"
   ]
  },
  {
   "cell_type": "code",
   "execution_count": 49,
   "metadata": {},
   "outputs": [],
   "source": [
    "voting_clf = VotingClassifier(named_estimators)\n"
   ]
  },
  {
   "cell_type": "code",
   "execution_count": 50,
   "metadata": {},
   "outputs": [
    {
     "name": "stderr",
     "output_type": "stream",
     "text": [
      "C:\\Users\\ktung\\Anaconda3\\envs\\PythonData\\lib\\site-packages\\sklearn\\linear_model\\logistic.py:432: FutureWarning: Default solver will be changed to 'lbfgs' in 0.22. Specify a solver to silence this warning.\n",
      "  FutureWarning)\n",
      "C:\\Users\\ktung\\Anaconda3\\envs\\PythonData\\lib\\site-packages\\sklearn\\svm\\base.py:929: ConvergenceWarning: Liblinear failed to converge, increase the number of iterations.\n",
      "  \"the number of iterations.\", ConvergenceWarning)\n"
     ]
    },
    {
     "data": {
      "text/plain": [
       "VotingClassifier(estimators=[('Log_clf',\n",
       "                              LogisticRegression(C=1.0, class_weight=None,\n",
       "                                                 dual=False, fit_intercept=True,\n",
       "                                                 intercept_scaling=1,\n",
       "                                                 l1_ratio=None, max_iter=100,\n",
       "                                                 multi_class='warn',\n",
       "                                                 n_jobs=None, penalty='l2',\n",
       "                                                 random_state=None,\n",
       "                                                 solver='warn', tol=0.0001,\n",
       "                                                 verbose=0, warm_start=False)),\n",
       "                             ('svm_clf',\n",
       "                              LinearSVC(C=1.0, class_weight=None, dual=True,\n",
       "                                        fit_intercept=True,...\n",
       "                                                     class_weight=None,\n",
       "                                                     criterion='gini',\n",
       "                                                     max_depth=None,\n",
       "                                                     max_features='auto',\n",
       "                                                     max_leaf_nodes=None,\n",
       "                                                     min_impurity_decrease=0.0,\n",
       "                                                     min_impurity_split=None,\n",
       "                                                     min_samples_leaf=1,\n",
       "                                                     min_samples_split=2,\n",
       "                                                     min_weight_fraction_leaf=0.0,\n",
       "                                                     n_estimators=1000,\n",
       "                                                     n_jobs=None,\n",
       "                                                     oob_score=False,\n",
       "                                                     random_state=42, verbose=0,\n",
       "                                                     warm_start=False))],\n",
       "                 flatten_transform=True, n_jobs=None, voting='hard',\n",
       "                 weights=None)"
      ]
     },
     "execution_count": 50,
     "metadata": {},
     "output_type": "execute_result"
    }
   ],
   "source": [
    "voting_clf.fit(X_train, y_train)"
   ]
  },
  {
   "cell_type": "code",
   "execution_count": 51,
   "metadata": {
    "scrolled": false
   },
   "outputs": [
    {
     "data": {
      "text/plain": [
       "[LogisticRegression(C=1.0, class_weight=None, dual=False, fit_intercept=True,\n",
       "                    intercept_scaling=1, l1_ratio=None, max_iter=100,\n",
       "                    multi_class='warn', n_jobs=None, penalty='l2',\n",
       "                    random_state=None, solver='warn', tol=0.0001, verbose=0,\n",
       "                    warm_start=False),\n",
       " LinearSVC(C=1.0, class_weight=None, dual=True, fit_intercept=True,\n",
       "           intercept_scaling=1, loss='squared_hinge', max_iter=1000,\n",
       "           multi_class='ovr', penalty='l2', random_state=42, tol=0.0001,\n",
       "           verbose=0),\n",
       " DecisionTreeClassifier(class_weight=None, criterion='gini', max_depth=None,\n",
       "                        max_features=None, max_leaf_nodes=None,\n",
       "                        min_impurity_decrease=0.0, min_impurity_split=None,\n",
       "                        min_samples_leaf=1, min_samples_split=2,\n",
       "                        min_weight_fraction_leaf=0.0, presort=False,\n",
       "                        random_state=42, splitter='best'),\n",
       " RandomForestClassifier(bootstrap=True, class_weight=None, criterion='gini',\n",
       "                        max_depth=None, max_features='auto', max_leaf_nodes=None,\n",
       "                        min_impurity_decrease=0.0, min_impurity_split=None,\n",
       "                        min_samples_leaf=1, min_samples_split=2,\n",
       "                        min_weight_fraction_leaf=0.0, n_estimators=1000,\n",
       "                        n_jobs=None, oob_score=False, random_state=42, verbose=0,\n",
       "                        warm_start=False)]"
      ]
     },
     "execution_count": 51,
     "metadata": {},
     "output_type": "execute_result"
    }
   ],
   "source": [
    "voting_clf.estimators_"
   ]
  },
  {
   "cell_type": "code",
   "execution_count": 52,
   "metadata": {},
   "outputs": [
    {
     "data": {
      "text/plain": [
       "0.6543759271031998"
      ]
     },
     "execution_count": 52,
     "metadata": {},
     "output_type": "execute_result"
    }
   ],
   "source": [
    "voting_clf.score(X_test, y_test)"
   ]
  },
  {
   "cell_type": "code",
   "execution_count": 53,
   "metadata": {},
   "outputs": [],
   "source": [
    "estimator_score = [estimator.score(X_test, y_test) for estimator in voting_clf.estimators_]"
   ]
  },
  {
   "cell_type": "code",
   "execution_count": 54,
   "metadata": {},
   "outputs": [
    {
     "data": {
      "text/html": [
       "<div>\n",
       "<style scoped>\n",
       "    .dataframe tbody tr th:only-of-type {\n",
       "        vertical-align: middle;\n",
       "    }\n",
       "\n",
       "    .dataframe tbody tr th {\n",
       "        vertical-align: top;\n",
       "    }\n",
       "\n",
       "    .dataframe thead th {\n",
       "        text-align: right;\n",
       "    }\n",
       "</style>\n",
       "<table border=\"1\" class=\"dataframe\">\n",
       "  <thead>\n",
       "    <tr style=\"text-align: right;\">\n",
       "      <th></th>\n",
       "      <th>accuracy_score</th>\n",
       "    </tr>\n",
       "  </thead>\n",
       "  <tbody>\n",
       "    <tr>\n",
       "      <th>log_clf</th>\n",
       "      <td>0.668998</td>\n",
       "    </tr>\n",
       "    <tr>\n",
       "      <th>svm_clf</th>\n",
       "      <td>0.667514</td>\n",
       "    </tr>\n",
       "    <tr>\n",
       "      <th>extra_tree</th>\n",
       "      <td>0.608815</td>\n",
       "    </tr>\n",
       "    <tr>\n",
       "      <th>random_forest</th>\n",
       "      <td>0.612630</td>\n",
       "    </tr>\n",
       "  </tbody>\n",
       "</table>\n",
       "</div>"
      ],
      "text/plain": [
       "               accuracy_score\n",
       "log_clf              0.668998\n",
       "svm_clf              0.667514\n",
       "extra_tree           0.608815\n",
       "random_forest        0.612630"
      ]
     },
     "execution_count": 54,
     "metadata": {},
     "output_type": "execute_result"
    }
   ],
   "source": [
    "estimator_df = pd.DataFrame(estimator_score)\n",
    "idx_rename = {0:'log_clf', 1:'svm_clf', 2:'extra_tree', 3:'random_forest'}\n",
    "col_rename = {0: 'accuracy_score'}\n",
    "\n",
    "estimator_df = estimator_df.rename(index=idx_rename, columns=col_rename)\n",
    "estimator_df"
   ]
  },
  {
   "cell_type": "code",
   "execution_count": 55,
   "metadata": {},
   "outputs": [
    {
     "name": "stderr",
     "output_type": "stream",
     "text": [
      "C:\\Users\\ktung\\Anaconda3\\envs\\PythonData\\lib\\site-packages\\sklearn\\linear_model\\logistic.py:432: FutureWarning: Default solver will be changed to 'lbfgs' in 0.22. Specify a solver to silence this warning.\n",
      "  FutureWarning)\n",
      "C:\\Users\\ktung\\Anaconda3\\envs\\PythonData\\lib\\site-packages\\sklearn\\linear_model\\logistic.py:432: FutureWarning: Default solver will be changed to 'lbfgs' in 0.22. Specify a solver to silence this warning.\n",
      "  FutureWarning)\n",
      "C:\\Users\\ktung\\Anaconda3\\envs\\PythonData\\lib\\site-packages\\sklearn\\linear_model\\logistic.py:432: FutureWarning: Default solver will be changed to 'lbfgs' in 0.22. Specify a solver to silence this warning.\n",
      "  FutureWarning)\n"
     ]
    },
    {
     "data": {
      "text/plain": [
       "0.6594612596354558"
      ]
     },
     "execution_count": 55,
     "metadata": {},
     "output_type": "execute_result"
    }
   ],
   "source": [
    "log_scores = cross_val_score(log_clf, X_test, y_test, cv=3, scoring='accuracy')\n",
    "log_scores.mean()"
   ]
  },
  {
   "cell_type": "code",
   "execution_count": 56,
   "metadata": {},
   "outputs": [
    {
     "data": {
      "text/plain": [
       "<matplotlib.axes._subplots.AxesSubplot at 0x21a768eb438>"
      ]
     },
     "execution_count": 56,
     "metadata": {},
     "output_type": "execute_result"
    },
    {
     "data": {
      "image/png": "[encoded data removed]",
      "text/plain": [
       "<Figure size 432x288 with 2 Axes>"
      ]
     },
     "metadata": {
      "needs_background": "light"
     },
     "output_type": "display_data"
    }
   ],
   "source": [
    "log_clf_pred = log_clf.predict(X_test)\n",
    "matrix_log = confusion_matrix(y_test, log_clf_pred)\n",
    "sn.heatmap(matrix_log, annot=True)"
   ]
  },
  {
   "cell_type": "code",
   "execution_count": 57,
   "metadata": {},
   "outputs": [
    {
     "data": {
      "image/png": "[encoded data removed]",
      "text/plain": [
       "<Figure size 1080x360 with 1 Axes>"
      ]
     },
     "metadata": {
      "needs_background": "light"
     },
     "output_type": "display_data"
    }
   ],
   "source": [
    "plot_coefficients(log_clf, cv.get_feature_names())"
   ]
  },
  {
   "cell_type": "code",
   "execution_count": 58,
   "metadata": {},
   "outputs": [],
   "source": [
    "svm_clf_pred = svm_clf.predict(X_test)"
   ]
  },
  {
   "cell_type": "code",
   "execution_count": 59,
   "metadata": {},
   "outputs": [
    {
     "name": "stderr",
     "output_type": "stream",
     "text": [
      "C:\\Users\\ktung\\Anaconda3\\envs\\PythonData\\lib\\site-packages\\sklearn\\svm\\base.py:929: ConvergenceWarning: Liblinear failed to converge, increase the number of iterations.\n",
      "  \"the number of iterations.\", ConvergenceWarning)\n",
      "C:\\Users\\ktung\\Anaconda3\\envs\\PythonData\\lib\\site-packages\\sklearn\\svm\\base.py:929: ConvergenceWarning: Liblinear failed to converge, increase the number of iterations.\n",
      "  \"the number of iterations.\", ConvergenceWarning)\n",
      "C:\\Users\\ktung\\Anaconda3\\envs\\PythonData\\lib\\site-packages\\sklearn\\svm\\base.py:929: ConvergenceWarning: Liblinear failed to converge, increase the number of iterations.\n",
      "  \"the number of iterations.\", ConvergenceWarning)\n"
     ]
    },
    {
     "data": {
      "text/plain": [
       "0.6202289235319911"
      ]
     },
     "execution_count": 59,
     "metadata": {},
     "output_type": "execute_result"
    }
   ],
   "source": [
    "svm_scores = cross_val_score(svm_clf, X_test, y_test, cv=3, scoring='accuracy')\n",
    "svm_scores.mean()"
   ]
  },
  {
   "cell_type": "code",
   "execution_count": 60,
   "metadata": {},
   "outputs": [
    {
     "data": {
      "text/plain": [
       "<matplotlib.axes._subplots.AxesSubplot at 0x21a76e5ada0>"
      ]
     },
     "execution_count": 60,
     "metadata": {},
     "output_type": "execute_result"
    },
    {
     "data": {
      "image/png": "[encoded data removed]",
      "text/plain": [
       "<Figure size 432x288 with 2 Axes>"
      ]
     },
     "metadata": {
      "needs_background": "light"
     },
     "output_type": "display_data"
    }
   ],
   "source": [
    "matrix_svm = confusion_matrix(y_test, svm_clf_pred)\n",
    "sn.heatmap(matrix_svm, annot=False)"
   ]
  },
  {
   "cell_type": "code",
   "execution_count": 61,
   "metadata": {},
   "outputs": [
    {
     "data": {
      "image/png": "[encoded data removed]",
      "text/plain": [
       "<Figure size 1080x360 with 1 Axes>"
      ]
     },
     "metadata": {
      "needs_background": "light"
     },
     "output_type": "display_data"
    }
   ],
   "source": [
    "plot_coefficients(svm_clf, cv.get_feature_names())"
   ]
  },
  {
   "cell_type": "code",
   "execution_count": 62,
   "metadata": {},
   "outputs": [
    {
     "data": {
      "text/plain": [
       "[(0.6329716509857761, 'angle'),\n",
       " (0.23655643679966845, 'SHOT_DISTANCE'),\n",
       " (0.026473860325783635, 'ACTION_TYPE_Layup Shot'),\n",
       " (0.01598912126777727, 'ACTION_TYPE_Jump Shot'),\n",
       " (0.006583158821057208, 'SHOT_ZONE_AREA_Right Side(R)'),\n",
       " (0.0054129749916641025, 'ACTION_TYPE_Fadeaway Jump Shot'),\n",
       " (0.005261574230959114, 'SHOT_ZONE_AREA_Left Side(L)'),\n",
       " (0.004870978392705231, 'ACTION_TYPE_Driving Layup Shot'),\n",
       " (0.00432340452349482, 'ACTION_TYPE_Running Jump Shot'),\n",
       " (0.0028564108619438407, 'ACTION_TYPE_Reverse Layup Shot'),\n",
       " (0.0027203796822992533, 'ACTION_TYPE_Tip Shot'),\n",
       " (0.002697328176628247, 'ACTION_TYPE_Hook Shot'),\n",
       " (0.002652587630171776, 'ACTION_TYPE_Step Back Jump shot'),\n",
       " (0.0025224897259325282, 'ACTION_TYPE_Turnaround Fadeaway shot'),\n",
       " (0.002445017830600614, 'SHOT_ZONE_AREA_Left Side Center(LC)'),\n",
       " (0.002437862159124098, 'SHOT_ZONE_AREA_Right Side Center(RC)'),\n",
       " (0.002269512431627684, 'SHOT_ZONE_BASIC_Mid-Range'),\n",
       " (0.0021495829169859357, 'ACTION_TYPE_Turnaround Jump Shot'),\n",
       " (0.0021002159287580218, 'SHOT_ZONE_RANGE_8-16 ft.'),\n",
       " (0.002062938446573958, 'ACTION_TYPE_Jump Bank Shot'),\n",
       " (0.001845215567817528, 'SHOT_ZONE_BASIC_In The Paint (Non-RA)'),\n",
       " (0.0017832236016200641, 'SHOT_ZONE_RANGE_16-24 ft.'),\n",
       " (0.0016814737486180846, 'ACTION_TYPE_Running Layup Shot'),\n",
       " (0.0015697392379708053, 'ACTION_TYPE_Tip Layup Shot'),\n",
       " (0.0014072821482573532, 'ACTION_TYPE_Floating Jump shot'),\n",
       " (0.0013429388756669642, 'ACTION_TYPE_Driving Jump shot'),\n",
       " (0.0013417385360192742, 'ACTION_TYPE_Alley Oop Layup shot'),\n",
       " (0.0012927750698386194, 'ACTION_TYPE_Driving Floating Bank Jump Shot'),\n",
       " (0.0012476940385834953, 'ACTION_TYPE_Pullup Jump shot'),\n",
       " (0.0012137951665825654, 'ACTION_TYPE_Driving Floating Jump Shot'),\n",
       " (0.001170892912660957, 'ACTION_TYPE_Running Bank shot'),\n",
       " (0.0011023108388046048, 'ACTION_TYPE_Driving Finger Roll Layup Shot'),\n",
       " (0.0010912108901977356, 'ACTION_TYPE_Driving Reverse Layup Shot'),\n",
       " (0.0010687457561083403, 'SHOT_ZONE_AREA_Center(C)'),\n",
       " (0.0010354548929846997, 'ACTION_TYPE_Turnaround Hook Shot'),\n",
       " (0.001019121191972188, 'SHOT_ZONE_RANGE_Less Than 8 ft.'),\n",
       " (0.0009164626653833694, 'ACTION_TYPE_Driving Bank shot'),\n",
       " (0.0008198075017141563, 'ACTION_TYPE_Finger Roll Shot'),\n",
       " (0.0007828655550404668, 'ACTION_TYPE_Driving Finger Roll Shot'),\n",
       " (0.0007327881180992272, 'ACTION_TYPE_Putback Layup Shot'),\n",
       " (0.0006747591199112167, 'SHOT_ZONE_RANGE_24+ ft.'),\n",
       " (0.0006547949628600586, 'ACTION_TYPE_Jump Hook Shot'),\n",
       " (0.0006289537111094944, 'ACTION_TYPE_Turnaround Bank shot'),\n",
       " (0.0005476559194374064, 'ACTION_TYPE_Running Hook Shot'),\n",
       " (0.0005434229282549785, 'ACTION_TYPE_Fadeaway Bank shot'),\n",
       " (0.0005050523251311863, 'ACTION_TYPE_Running Dunk Shot'),\n",
       " (0.0005005269421488671, 'ACTION_TYPE_Finger Roll Layup Shot'),\n",
       " (0.00047314262099704753, 'SHOT_TYPE_3PT Field Goal'),\n",
       " (0.0004567939154984669, 'SHOT_ZONE_BASIC_Above the Break 3'),\n",
       " (0.0004488966594525427, 'SHOT_TYPE_2PT Field Goal'),\n",
       " (0.00039728881288856406, 'SHOT_ZONE_BASIC_Right Corner 3'),\n",
       " (0.000392825564158692, 'SHOT_ZONE_BASIC_Left Corner 3'),\n",
       " (0.0003854163237723854, 'SHOT_ZONE_BASIC_Restricted Area'),\n",
       " (0.0003164445048310206, 'ACTION_TYPE_Driving Hook Shot'),\n",
       " (0.0002817771635683372, 'ACTION_TYPE_Tip Dunk Shot'),\n",
       " (0.00028125248475035055, 'ACTION_TYPE_Running Pull-Up Jump Shot'),\n",
       " (0.000260740517191281, 'ACTION_TYPE_Turnaround Fadeaway Bank Jump Shot'),\n",
       " (0.000256518109863473, 'ACTION_TYPE_Cutting Layup Shot'),\n",
       " (0.0002489889689602079, 'ACTION_TYPE_Driving Dunk Shot'),\n",
       " (0.00021329519011751096, 'ACTION_TYPE_Alley Oop Dunk Shot'),\n",
       " (0.00020782252752432536, 'ACTION_TYPE_Running Slam Dunk Shot'),\n",
       " (0.0001995096264233523, 'ACTION_TYPE_Running Bank Hook Shot'),\n",
       " (0.0001989539221151489, 'ACTION_TYPE_Running Finger Roll Layup Shot'),\n",
       " (0.00017160202987008595, 'ACTION_TYPE_Putback Dunk Shot'),\n",
       " (0.00014812078325370136, 'ACTION_TYPE_Pullup Bank shot'),\n",
       " (0.00012458072274117624, 'ACTION_TYPE_Hook Bank Shot'),\n",
       " (0.00011312428268095992, 'ACTION_TYPE_Driving Slam Dunk Shot'),\n",
       " (0.00011096348342518248, 'ACTION_TYPE_Slam Dunk Shot'),\n",
       " (0.00010425042403874486, 'ACTION_TYPE_Running Finger Roll Shot'),\n",
       " (8.50585044954496e-05, 'ACTION_TYPE_Driving Bank Hook Shot'),\n",
       " (7.425431984957533e-05, 'ACTION_TYPE_Reverse Dunk Shot'),\n",
       " (7.18772172807598e-05, 'ACTION_TYPE_Dunk Shot'),\n",
       " (4.8807075991978195e-05, 'ACTION_TYPE_Running Reverse Layup Shot'),\n",
       " (3.182315144152175e-05, 'ACTION_TYPE_Cutting Finger Roll Layup Shot'),\n",
       " (1.768274049258127e-05, 'ACTION_TYPE_Cutting Dunk Shot'),\n",
       " (0.0, 'SHOT_ZONE_RANGE_Back Court Shot'),\n",
       " (0.0, 'SHOT_ZONE_BASIC_Backcourt'),\n",
       " (0.0, 'SHOT_ZONE_AREA_Back Court(BC)'),\n",
       " (0.0, 'SHOT_ATTEMPTED_FLAG'),\n",
       " (0.0, 'ACTION_TYPE_Turnaround Finger Roll Shot'),\n",
       " (0.0, 'ACTION_TYPE_Turnaround Bank Hook Shot'),\n",
       " (0.0, 'ACTION_TYPE_Step Back Bank Jump Shot'),\n",
       " (0.0, 'ACTION_TYPE_Running Reverse Dunk Shot'),\n",
       " (0.0, 'ACTION_TYPE_Running Alley Oop Dunk Shot'),\n",
       " (0.0, 'ACTION_TYPE_Reverse Slam Dunk Shot'),\n",
       " (0.0, 'ACTION_TYPE_Putback Slam Dunk Shot'),\n",
       " (0.0, 'ACTION_TYPE_Putback Reverse Dunk Shot'),\n",
       " (0.0, 'ACTION_TYPE_Follow Up Dunk Shot'),\n",
       " (0.0, 'ACTION_TYPE_Driving Reverse Dunk Shot')]"
      ]
     },
     "execution_count": 62,
     "metadata": {},
     "output_type": "execute_result"
    }
   ],
   "source": [
    "feature_importance = decision_tree_clf.feature_importances_\n",
    "# feature_importance = pd.DataFrame(np.std([tree.feature_importances_ for tree in extra_trees_clf.estimators_], axis=0)).reset_index()\n",
    "# feature_importance = feature_importance.rename(columns={0: 'Feature'})\n",
    "sorted(zip(feature_importance, X_train), reverse=True)\n",
    "# feature_importance.sort_values('Feature', ascending=False)"
   ]
  },
  {
   "cell_type": "code",
   "execution_count": 103,
   "metadata": {},
   "outputs": [],
   "source": [
    "\n",
    "# # Plotting a Bar Graph to compare the models \n",
    "# plt.bar(X.columns, feature_importance[:5]) \n",
    "# plt.xlabel('Feature Labels') \n",
    "# plt.ylabel('Feature Importances') \n",
    "# plt.title('Comparison of different Feature Importances') \n",
    "# plt.show()"
   ]
  },
  {
   "cell_type": "code",
   "execution_count": 63,
   "metadata": {},
   "outputs": [
    {
     "data": {
      "text/plain": [
       "0.5963063384494394"
      ]
     },
     "execution_count": 63,
     "metadata": {},
     "output_type": "execute_result"
    }
   ],
   "source": [
    "decision_tree_scores = cross_val_score(decision_tree_clf, X_test, y_test, cv=3, scoring='accuracy')\n",
    "decision_tree_scores.mean()"
   ]
  },
  {
   "cell_type": "code",
   "execution_count": 65,
   "metadata": {},
   "outputs": [
    {
     "data": {
      "text/plain": [
       "<matplotlib.axes._subplots.AxesSubplot at 0x21a774ea828>"
      ]
     },
     "execution_count": 65,
     "metadata": {},
     "output_type": "execute_result"
    },
    {
     "data": {
      "image/png": "[encoded data removed]",
      "text/plain": [
       "<Figure size 432x288 with 2 Axes>"
      ]
     },
     "metadata": {
      "needs_background": "light"
     },
     "output_type": "display_data"
    }
   ],
   "source": [
    "decision_tree_clf_pred = decision_tree_clf.predict(X_test)\n",
    "matrix_extra = confusion_matrix(y_test, decision_tree_clf_pred)\n",
    "sn.heatmap(matrix_extra, annot=False)"
   ]
  },
  {
   "cell_type": "code",
   "execution_count": 66,
   "metadata": {},
   "outputs": [
    {
     "data": {
      "text/plain": [
       "0.6069027497761427"
      ]
     },
     "execution_count": 66,
     "metadata": {},
     "output_type": "execute_result"
    }
   ],
   "source": [
    "forest_scores = cross_val_score(random_forest_clf, X_test, y_test, cv=3, scoring='accuracy')\n",
    "forest_scores.mean()"
   ]
  },
  {
   "cell_type": "code",
   "execution_count": 67,
   "metadata": {},
   "outputs": [
    {
     "data": {
      "text/plain": [
       "<matplotlib.axes._subplots.AxesSubplot at 0x21a72e9e1d0>"
      ]
     },
     "execution_count": 67,
     "metadata": {},
     "output_type": "execute_result"
    },
    {
     "data": {
      "image/png": "[encoded data removed]",
      "text/plain": [
       "<Figure size 432x288 with 2 Axes>"
      ]
     },
     "metadata": {
      "needs_background": "light"
     },
     "output_type": "display_data"
    }
   ],
   "source": [
    "random_forest_clf_pred = random_forest_clf.predict(X_test)\n",
    "matrix_forest = confusion_matrix(y_test, random_forest_clf_pred)\n",
    "sn.heatmap(matrix_forest, annot=False)\n"
   ]
  },
  {
   "cell_type": "code",
   "execution_count": 68,
   "metadata": {},
   "outputs": [
    {
     "data": {
      "text/plain": [
       "[(0.6939087509884657, 'angle'),\n",
       " (0.09853884715290488, 'SHOT_DISTANCE'),\n",
       " (0.03309349397012385, 'ACTION_TYPE_Jump Shot'),\n",
       " (0.026001699454112234, 'SHOT_ZONE_BASIC_Restricted Area'),\n",
       " (0.017431760508121282, 'SHOT_ZONE_RANGE_Less Than 8 ft.'),\n",
       " (0.01622185296396702, 'ACTION_TYPE_Layup Shot'),\n",
       " (0.011327494798916277, 'SHOT_ZONE_AREA_Center(C)'),\n",
       " (0.0057983950580160456, 'ACTION_TYPE_Driving Layup Shot'),\n",
       " (0.004647847618673417, 'ACTION_TYPE_Driving Dunk Shot'),\n",
       " (0.004446792788353327, 'SHOT_ZONE_BASIC_Mid-Range'),\n",
       " (0.00409215628055262, 'SHOT_TYPE_3PT Field Goal'),\n",
       " (0.0040174465152101576, 'ACTION_TYPE_Slam Dunk Shot'),\n",
       " (0.003950194362375762, 'SHOT_ZONE_BASIC_In The Paint (Non-RA)'),\n",
       " (0.0033931507845008915, 'SHOT_TYPE_2PT Field Goal'),\n",
       " (0.0029329448581118605, 'SHOT_ZONE_RANGE_16-24 ft.'),\n",
       " (0.002807565469809137, 'ACTION_TYPE_Fadeaway Jump Shot'),\n",
       " (0.0027443724135846905, 'ACTION_TYPE_Alley Oop Dunk Shot'),\n",
       " (0.0027044033961796062, 'ACTION_TYPE_Turnaround Jump Shot'),\n",
       " (0.002695075107876175, 'SHOT_ZONE_AREA_Left Side(L)'),\n",
       " (0.002691533858740526, 'SHOT_ZONE_RANGE_24+ ft.'),\n",
       " (0.0026718765096774046, 'ACTION_TYPE_Pullup Jump shot'),\n",
       " (0.0024311457537564782, 'SHOT_ZONE_AREA_Right Side(R)'),\n",
       " (0.0024226224465345196, 'ACTION_TYPE_Jump Bank Shot'),\n",
       " (0.0022524390541030404, 'ACTION_TYPE_Running Jump Shot'),\n",
       " (0.0022400718123464407, 'ACTION_TYPE_Dunk Shot'),\n",
       " (0.002221819268489325, 'SHOT_ZONE_RANGE_8-16 ft.'),\n",
       " (0.0019496956765723853, 'ACTION_TYPE_Step Back Jump shot'),\n",
       " (0.0019074621309240797, 'ACTION_TYPE_Reverse Layup Shot'),\n",
       " (0.0018597371901531152, 'SHOT_ZONE_BASIC_Above the Break 3'),\n",
       " (0.001822935239281345, 'ACTION_TYPE_Turnaround Fadeaway shot'),\n",
       " (0.0017915858414620052, 'ACTION_TYPE_Tip Shot'),\n",
       " (0.001747821893025234, 'ACTION_TYPE_Running Bank shot'),\n",
       " (0.0017088206271554957, 'ACTION_TYPE_Running Dunk Shot'),\n",
       " (0.0016586970757551367, 'SHOT_ZONE_AREA_Left Side Center(LC)'),\n",
       " (0.0014725222495980562, 'ACTION_TYPE_Floating Jump shot'),\n",
       " (0.0013924821649880716, 'ACTION_TYPE_Hook Shot'),\n",
       " (0.0013480889440171699, 'SHOT_ZONE_AREA_Right Side Center(RC)'),\n",
       " (0.0013149220448782546, 'ACTION_TYPE_Driving Bank shot'),\n",
       " (0.0012078881663267406, 'ACTION_TYPE_Driving Floating Jump Shot'),\n",
       " (0.0011568314007062309, 'ACTION_TYPE_Driving Jump shot'),\n",
       " (0.0011060351728940912, 'ACTION_TYPE_Running Layup Shot'),\n",
       " (0.0010583900047282646, 'ACTION_TYPE_Jump Hook Shot'),\n",
       " (0.0010464252002070412, 'ACTION_TYPE_Driving Slam Dunk Shot'),\n",
       " (0.0010381931336641266, 'ACTION_TYPE_Cutting Layup Shot'),\n",
       " (0.0009832974909227135, 'ACTION_TYPE_Driving Finger Roll Layup Shot'),\n",
       " (0.0009786458840000413, 'ACTION_TYPE_Tip Layup Shot'),\n",
       " (0.0009259456837963942, 'ACTION_TYPE_Alley Oop Layup shot'),\n",
       " (0.0008755688318448679, 'ACTION_TYPE_Driving Floating Bank Jump Shot'),\n",
       " (0.0008403256768242451, 'ACTION_TYPE_Running Hook Shot'),\n",
       " (0.0007803797564618387, 'ACTION_TYPE_Turnaround Bank shot'),\n",
       " (0.000769106148860342, 'ACTION_TYPE_Turnaround Hook Shot'),\n",
       " (0.0007635278853868843, 'ACTION_TYPE_Driving Reverse Layup Shot'),\n",
       " (0.0006779590348460197, 'ACTION_TYPE_Putback Layup Shot'),\n",
       " (0.0006635843836236703, 'ACTION_TYPE_Cutting Dunk Shot'),\n",
       " (0.0006373462688006093, 'ACTION_TYPE_Finger Roll Shot'),\n",
       " (0.0005667452767042957, 'ACTION_TYPE_Finger Roll Layup Shot'),\n",
       " (0.0005555092205005408, 'ACTION_TYPE_Driving Finger Roll Shot'),\n",
       " (0.0004828866740543213, 'ACTION_TYPE_Fadeaway Bank shot'),\n",
       " (0.00046131401317950766, 'ACTION_TYPE_Driving Hook Shot'),\n",
       " (0.0004414184554869515, 'ACTION_TYPE_Running Finger Roll Layup Shot'),\n",
       " (0.000381374430263853, 'ACTION_TYPE_Running Pull-Up Jump Shot'),\n",
       " (0.0003582136431493216, 'ACTION_TYPE_Reverse Dunk Shot'),\n",
       " (0.0003035778518339955, 'ACTION_TYPE_Turnaround Fadeaway Bank Jump Shot'),\n",
       " (0.00026129587628444695, 'ACTION_TYPE_Putback Dunk Shot'),\n",
       " (0.0002295620880620845, 'SHOT_ZONE_AREA_Back Court(BC)'),\n",
       " (0.00022489094390748093, 'ACTION_TYPE_Tip Dunk Shot'),\n",
       " (0.00022142369109989543, 'SHOT_ZONE_RANGE_Back Court Shot'),\n",
       " (0.00019656192924719543, 'ACTION_TYPE_Running Slam Dunk Shot'),\n",
       " (0.0001920142623093516, 'ACTION_TYPE_Driving Bank Hook Shot'),\n",
       " (0.00019044178476644222, 'ACTION_TYPE_Hook Bank Shot'),\n",
       " (0.00018378849823455314, 'ACTION_TYPE_Running Bank Hook Shot'),\n",
       " (0.00015886328368354508, 'SHOT_ZONE_BASIC_Right Corner 3'),\n",
       " (0.00015700381578436304, 'SHOT_ZONE_BASIC_Left Corner 3'),\n",
       " (0.00015212516387061816, 'ACTION_TYPE_Cutting Finger Roll Layup Shot'),\n",
       " (0.00012966716331680385, 'ACTION_TYPE_Turnaround Bank Hook Shot'),\n",
       " (0.00012904716765404324, 'ACTION_TYPE_Reverse Slam Dunk Shot'),\n",
       " (0.0001274913967978927, 'ACTION_TYPE_Running Reverse Layup Shot'),\n",
       " (0.000126382380119576, 'ACTION_TYPE_Pullup Bank shot'),\n",
       " (0.00011869678954273436, 'ACTION_TYPE_Running Alley Oop Dunk Shot'),\n",
       " (0.00011422192962930789, 'ACTION_TYPE_Running Finger Roll Shot'),\n",
       " (0.00010185108668451891, 'SHOT_ZONE_BASIC_Backcourt'),\n",
       " (7.373833529507266e-05, 'ACTION_TYPE_Follow Up Dunk Shot'),\n",
       " (4.4462975639656184e-05, 'ACTION_TYPE_Turnaround Finger Roll Shot'),\n",
       " (4.257145860650248e-05, 'ACTION_TYPE_Driving Reverse Dunk Shot'),\n",
       " (3.223294644951244e-05, 'ACTION_TYPE_Putback Slam Dunk Shot'),\n",
       " (3.170080451079931e-05, 'ACTION_TYPE_Running Reverse Dunk Shot'),\n",
       " (3.012612746096331e-05, 'ACTION_TYPE_Step Back Bank Jump Shot'),\n",
       " (8.824140662836997e-06, 'ACTION_TYPE_Putback Reverse Dunk Shot'),\n",
       " (0.0, 'SHOT_ATTEMPTED_FLAG')]"
      ]
     },
     "execution_count": 68,
     "metadata": {},
     "output_type": "execute_result"
    }
   ],
   "source": [
    "feature_importance = random_forest_clf.feature_importances_\n",
    "sorted(zip(feature_importance, X_train), reverse=True)"
   ]
  },
  {
   "cell_type": "code",
   "execution_count": 69,
   "metadata": {},
   "outputs": [
    {
     "data": {
      "text/plain": [
       "SelectFromModel(estimator=RandomForestClassifier(bootstrap=True,\n",
       "                                                 class_weight=None,\n",
       "                                                 criterion='gini',\n",
       "                                                 max_depth=None,\n",
       "                                                 max_features='auto',\n",
       "                                                 max_leaf_nodes=None,\n",
       "                                                 min_impurity_decrease=0.0,\n",
       "                                                 min_impurity_split=None,\n",
       "                                                 min_samples_leaf=1,\n",
       "                                                 min_samples_split=2,\n",
       "                                                 min_weight_fraction_leaf=0.0,\n",
       "                                                 n_estimators=1000, n_jobs=None,\n",
       "                                                 oob_score=False,\n",
       "                                                 random_state=42, verbose=0,\n",
       "                                                 warm_start=False),\n",
       "                max_features=None, norm_order=1, prefit=False, threshold=0.015)"
      ]
     },
     "execution_count": 69,
     "metadata": {},
     "output_type": "execute_result"
    }
   ],
   "source": [
    "# Select from model to use a treshold amount for features to use and transform to new train\n",
    "sfm = SelectFromModel(random_forest_clf, threshold=.015)\n",
    "sfm.fit(X_train, y_train)"
   ]
  },
  {
   "cell_type": "code",
   "execution_count": 70,
   "metadata": {},
   "outputs": [
    {
     "name": "stdout",
     "output_type": "stream",
     "text": [
      "SHOT_DISTANCE\n",
      "angle\n",
      "ACTION_TYPE_Jump Shot\n",
      "ACTION_TYPE_Layup Shot\n",
      "SHOT_ZONE_BASIC_Restricted Area\n",
      "SHOT_ZONE_RANGE_Less Than 8 ft.\n"
     ]
    }
   ],
   "source": [
    "for feature_list_index in sfm.get_support(indices=True):\n",
    "    print(X_train.columns[feature_list_index])"
   ]
  },
  {
   "cell_type": "code",
   "execution_count": 71,
   "metadata": {},
   "outputs": [],
   "source": [
    "X_important_train = sfm.transform(X_train)\n",
    "X_important_test = sfm.transform(X_test)"
   ]
  },
  {
   "cell_type": "code",
   "execution_count": 72,
   "metadata": {},
   "outputs": [
    {
     "data": {
      "text/plain": [
       "RandomForestClassifier(bootstrap=True, class_weight=None, criterion='gini',\n",
       "                       max_depth=None, max_features='auto', max_leaf_nodes=None,\n",
       "                       min_impurity_decrease=0.0, min_impurity_split=None,\n",
       "                       min_samples_leaf=1, min_samples_split=2,\n",
       "                       min_weight_fraction_leaf=0.0, n_estimators=1000,\n",
       "                       n_jobs=None, oob_score=False, random_state=42, verbose=0,\n",
       "                       warm_start=False)"
      ]
     },
     "execution_count": 72,
     "metadata": {},
     "output_type": "execute_result"
    }
   ],
   "source": [
    "clf_important = RandomForestClassifier(n_estimators=1000, random_state=42)\n",
    "clf_important.fit(X_important_train, y_train)"
   ]
  },
  {
   "cell_type": "code",
   "execution_count": 73,
   "metadata": {},
   "outputs": [
    {
     "data": {
      "text/plain": [
       "0.615172706081797"
      ]
     },
     "execution_count": 73,
     "metadata": {},
     "output_type": "execute_result"
    }
   ],
   "source": [
    "y_important_pred = clf_important.predict(X_important_test)\n",
    "accuracy_score(y_test, y_important_pred)"
   ]
  },
  {
   "cell_type": "code",
   "execution_count": 68,
   "metadata": {},
   "outputs": [],
   "source": [
    "filename = 'VictorOladipo_new.model'"
   ]
  },
  {
   "cell_type": "code",
   "execution_count": 69,
   "metadata": {},
   "outputs": [
    {
     "data": {
      "text/plain": [
       "['VictorOladipo_new.model']"
      ]
     },
     "execution_count": 69,
     "metadata": {},
     "output_type": "execute_result"
    }
   ],
   "source": [
    "# joblib.dump(log_clf, filename)\n",
    "# joblib.dump(svm_clf, filename)\n",
    "# joblib.dump(extra_trees_clf, filename)\n",
    "# joblib.dump(random_forest_clf, filename)\n",
    "joblib.dump(voting_clf, filename)"
   ]
  },
  {
   "cell_type": "code",
   "execution_count": 70,
   "metadata": {},
   "outputs": [],
   "source": [
    "loaded_model = joblib.load('VictorOladipo_new')"
   ]
  },
  {
   "cell_type": "code",
   "execution_count": 71,
   "metadata": {},
   "outputs": [],
   "source": [
    "result = loaded_model.score(X_test, y_test)"
   ]
  },
  {
   "cell_type": "code",
   "execution_count": 72,
   "metadata": {},
   "outputs": [
    {
     "name": "stdout",
     "output_type": "stream",
     "text": [
      "0.6404782237403929\n"
     ]
    }
   ],
   "source": [
    "print(result)"
   ]
  },
  {
   "cell_type": "code",
   "execution_count": null,
   "metadata": {},
   "outputs": [],
   "source": [
    "#                0        1\n",
    "# 0          VictorOladipo   203506\n",
    "# 1      Karl-AnthonyTowns  1626157\n",
    "# 2            NikolaJokic   203999\n",
    "# 3            KyrieIrving   202681\n",
    "# 4              AlHorford   201143\n",
    "# 5          DamianLillard   203081\n",
    "# 6             RudyGobert   203497\n",
    "# 7          DraymondGreen   203110\n",
    "# 8           KawhiLeonard   202695\n",
    "# 9             PaulGeorge   202331\n",
    "# 10           JimmyButler   202710\n",
    "# 11            JoelEmbiid   203954\n",
    "# 12             ChrisPaul   101108\n",
    "# 13      RussellWestbrook   201566\n",
    "# 14  GiannisAntetokounmpo   203507\n",
    "# 15          AnthonyDavis   203076\n",
    "# 16           JamesHarden   201935\n",
    "# 17          StephenCurry   201939\n",
    "# 18           KevinDurant   201142\n",
    "# 19           LeBronJames     2544"
   ]
  }
 ],
 "metadata": {
  "kernelspec": {
   "display_name": "Python 3",
   "language": "python",
   "name": "python3"
  },
  "language_info": {
   "codemirror_mode": {
    "name": "ipython",
    "version": 3
   },
   "file_extension": ".py",
   "mimetype": "text/x-python",
   "name": "python",
   "nbconvert_exporter": "python",
   "pygments_lexer": "ipython3",
   "version": "3.7.5"
  }
 },
 "nbformat": 4,
 "nbformat_minor": 2
}
